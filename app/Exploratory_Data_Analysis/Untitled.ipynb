{
 "cells": [
  {
   "cell_type": "code",
   "execution_count": 8,
   "id": "3666b13b-661c-4471-98b6-749b44ca71eb",
   "metadata": {},
   "outputs": [
    {
     "name": "stdout",
     "output_type": "stream",
     "text": [
      "Collecting notebook==6.4.12\n",
      "  Downloading notebook-6.4.12-py3-none-any.whl.metadata (2.5 kB)\n",
      "Requirement already satisfied: jinja2 in c:\\users\\fezeg\\documents\\github\\datascience\\venv\\lib\\site-packages (from notebook==6.4.12) (3.1.3)\n",
      "Requirement already satisfied: tornado>=6.1 in c:\\users\\fezeg\\documents\\github\\datascience\\venv\\lib\\site-packages (from notebook==6.4.12) (6.4)\n",
      "Requirement already satisfied: pyzmq>=17 in c:\\users\\fezeg\\documents\\github\\datascience\\venv\\lib\\site-packages (from notebook==6.4.12) (25.1.2)\n",
      "Requirement already satisfied: argon2-cffi in c:\\users\\fezeg\\documents\\github\\datascience\\venv\\lib\\site-packages (from notebook==6.4.12) (23.1.0)\n",
      "Requirement already satisfied: traitlets>=4.2.1 in c:\\users\\fezeg\\documents\\github\\datascience\\venv\\lib\\site-packages (from notebook==6.4.12) (5.14.2)\n",
      "Requirement already satisfied: jupyter-core>=4.6.1 in c:\\users\\fezeg\\documents\\github\\datascience\\venv\\lib\\site-packages (from notebook==6.4.12) (5.7.2)\n",
      "Requirement already satisfied: jupyter-client>=5.3.4 in c:\\users\\fezeg\\documents\\github\\datascience\\venv\\lib\\site-packages (from notebook==6.4.12) (8.6.1)\n",
      "Requirement already satisfied: ipython-genutils in c:\\users\\fezeg\\documents\\github\\datascience\\venv\\lib\\site-packages (from notebook==6.4.12) (0.2.0)\n",
      "Requirement already satisfied: nbformat in c:\\users\\fezeg\\documents\\github\\datascience\\venv\\lib\\site-packages (from notebook==6.4.12) (5.10.3)\n",
      "Requirement already satisfied: nbconvert>=5 in c:\\users\\fezeg\\documents\\github\\datascience\\venv\\lib\\site-packages (from notebook==6.4.12) (7.16.3)\n",
      "Requirement already satisfied: nest-asyncio>=1.5 in c:\\users\\fezeg\\documents\\github\\datascience\\venv\\lib\\site-packages (from notebook==6.4.12) (1.6.0)\n",
      "Requirement already satisfied: ipykernel in c:\\users\\fezeg\\documents\\github\\datascience\\venv\\lib\\site-packages (from notebook==6.4.12) (6.29.3)\n",
      "Requirement already satisfied: Send2Trash>=1.8.0 in c:\\users\\fezeg\\documents\\github\\datascience\\venv\\lib\\site-packages (from notebook==6.4.12) (1.8.2)\n",
      "Requirement already satisfied: terminado>=0.8.3 in c:\\users\\fezeg\\documents\\github\\datascience\\venv\\lib\\site-packages (from notebook==6.4.12) (0.18.1)\n",
      "Requirement already satisfied: prometheus-client in c:\\users\\fezeg\\documents\\github\\datascience\\venv\\lib\\site-packages (from notebook==6.4.12) (0.20.0)\n",
      "Requirement already satisfied: python-dateutil>=2.8.2 in c:\\users\\fezeg\\documents\\github\\datascience\\venv\\lib\\site-packages (from jupyter-client>=5.3.4->notebook==6.4.12) (2.9.0.post0)\n",
      "Requirement already satisfied: platformdirs>=2.5 in c:\\users\\fezeg\\documents\\github\\datascience\\venv\\lib\\site-packages (from jupyter-core>=4.6.1->notebook==6.4.12) (4.2.0)\n",
      "Requirement already satisfied: pywin32>=300 in c:\\users\\fezeg\\documents\\github\\datascience\\venv\\lib\\site-packages (from jupyter-core>=4.6.1->notebook==6.4.12) (306)\n",
      "Requirement already satisfied: beautifulsoup4 in c:\\users\\fezeg\\documents\\github\\datascience\\venv\\lib\\site-packages (from nbconvert>=5->notebook==6.4.12) (4.12.3)\n",
      "Requirement already satisfied: bleach!=5.0.0 in c:\\users\\fezeg\\documents\\github\\datascience\\venv\\lib\\site-packages (from nbconvert>=5->notebook==6.4.12) (6.1.0)\n",
      "Requirement already satisfied: defusedxml in c:\\users\\fezeg\\documents\\github\\datascience\\venv\\lib\\site-packages (from nbconvert>=5->notebook==6.4.12) (0.7.1)\n",
      "Requirement already satisfied: jupyterlab-pygments in c:\\users\\fezeg\\documents\\github\\datascience\\venv\\lib\\site-packages (from nbconvert>=5->notebook==6.4.12) (0.3.0)\n",
      "Requirement already satisfied: markupsafe>=2.0 in c:\\users\\fezeg\\documents\\github\\datascience\\venv\\lib\\site-packages (from nbconvert>=5->notebook==6.4.12) (2.1.5)\n",
      "Requirement already satisfied: mistune<4,>=2.0.3 in c:\\users\\fezeg\\documents\\github\\datascience\\venv\\lib\\site-packages (from nbconvert>=5->notebook==6.4.12) (3.0.2)\n",
      "Requirement already satisfied: nbclient>=0.5.0 in c:\\users\\fezeg\\documents\\github\\datascience\\venv\\lib\\site-packages (from nbconvert>=5->notebook==6.4.12) (0.10.0)\n",
      "Requirement already satisfied: packaging in c:\\users\\fezeg\\documents\\github\\datascience\\venv\\lib\\site-packages (from nbconvert>=5->notebook==6.4.12) (24.0)\n",
      "Requirement already satisfied: pandocfilters>=1.4.1 in c:\\users\\fezeg\\documents\\github\\datascience\\venv\\lib\\site-packages (from nbconvert>=5->notebook==6.4.12) (1.5.1)\n",
      "Requirement already satisfied: pygments>=2.4.1 in c:\\users\\fezeg\\documents\\github\\datascience\\venv\\lib\\site-packages (from nbconvert>=5->notebook==6.4.12) (2.17.2)\n",
      "Requirement already satisfied: tinycss2 in c:\\users\\fezeg\\documents\\github\\datascience\\venv\\lib\\site-packages (from nbconvert>=5->notebook==6.4.12) (1.2.1)\n",
      "Requirement already satisfied: fastjsonschema in c:\\users\\fezeg\\documents\\github\\datascience\\venv\\lib\\site-packages (from nbformat->notebook==6.4.12) (2.19.1)\n",
      "Requirement already satisfied: jsonschema>=2.6 in c:\\users\\fezeg\\documents\\github\\datascience\\venv\\lib\\site-packages (from nbformat->notebook==6.4.12) (4.21.1)\n",
      "Requirement already satisfied: pywinpty>=1.1.0 in c:\\users\\fezeg\\documents\\github\\datascience\\venv\\lib\\site-packages (from terminado>=0.8.3->notebook==6.4.12) (2.0.13)\n",
      "Requirement already satisfied: argon2-cffi-bindings in c:\\users\\fezeg\\documents\\github\\datascience\\venv\\lib\\site-packages (from argon2-cffi->notebook==6.4.12) (21.2.0)\n",
      "Requirement already satisfied: comm>=0.1.1 in c:\\users\\fezeg\\documents\\github\\datascience\\venv\\lib\\site-packages (from ipykernel->notebook==6.4.12) (0.2.2)\n",
      "Requirement already satisfied: debugpy>=1.6.5 in c:\\users\\fezeg\\documents\\github\\datascience\\venv\\lib\\site-packages (from ipykernel->notebook==6.4.12) (1.8.1)\n",
      "Requirement already satisfied: ipython>=7.23.1 in c:\\users\\fezeg\\documents\\github\\datascience\\venv\\lib\\site-packages (from ipykernel->notebook==6.4.12) (8.22.2)\n",
      "Requirement already satisfied: matplotlib-inline>=0.1 in c:\\users\\fezeg\\documents\\github\\datascience\\venv\\lib\\site-packages (from ipykernel->notebook==6.4.12) (0.1.6)\n",
      "Requirement already satisfied: psutil in c:\\users\\fezeg\\documents\\github\\datascience\\venv\\lib\\site-packages (from ipykernel->notebook==6.4.12) (5.9.8)\n",
      "Requirement already satisfied: six>=1.9.0 in c:\\users\\fezeg\\documents\\github\\datascience\\venv\\lib\\site-packages (from bleach!=5.0.0->nbconvert>=5->notebook==6.4.12) (1.16.0)\n",
      "Requirement already satisfied: webencodings in c:\\users\\fezeg\\documents\\github\\datascience\\venv\\lib\\site-packages (from bleach!=5.0.0->nbconvert>=5->notebook==6.4.12) (0.5.1)\n",
      "Requirement already satisfied: decorator in c:\\users\\fezeg\\documents\\github\\datascience\\venv\\lib\\site-packages (from ipython>=7.23.1->ipykernel->notebook==6.4.12) (5.1.1)\n",
      "Requirement already satisfied: jedi>=0.16 in c:\\users\\fezeg\\documents\\github\\datascience\\venv\\lib\\site-packages (from ipython>=7.23.1->ipykernel->notebook==6.4.12) (0.19.1)\n",
      "Requirement already satisfied: prompt-toolkit<3.1.0,>=3.0.41 in c:\\users\\fezeg\\documents\\github\\datascience\\venv\\lib\\site-packages (from ipython>=7.23.1->ipykernel->notebook==6.4.12) (3.0.43)\n",
      "Requirement already satisfied: stack-data in c:\\users\\fezeg\\documents\\github\\datascience\\venv\\lib\\site-packages (from ipython>=7.23.1->ipykernel->notebook==6.4.12) (0.6.3)\n",
      "Requirement already satisfied: colorama in c:\\users\\fezeg\\documents\\github\\datascience\\venv\\lib\\site-packages (from ipython>=7.23.1->ipykernel->notebook==6.4.12) (0.4.6)\n",
      "Requirement already satisfied: attrs>=22.2.0 in c:\\users\\fezeg\\documents\\github\\datascience\\venv\\lib\\site-packages (from jsonschema>=2.6->nbformat->notebook==6.4.12) (23.2.0)\n",
      "Requirement already satisfied: jsonschema-specifications>=2023.03.6 in c:\\users\\fezeg\\documents\\github\\datascience\\venv\\lib\\site-packages (from jsonschema>=2.6->nbformat->notebook==6.4.12) (2023.12.1)\n",
      "Requirement already satisfied: referencing>=0.28.4 in c:\\users\\fezeg\\documents\\github\\datascience\\venv\\lib\\site-packages (from jsonschema>=2.6->nbformat->notebook==6.4.12) (0.34.0)\n",
      "Requirement already satisfied: rpds-py>=0.7.1 in c:\\users\\fezeg\\documents\\github\\datascience\\venv\\lib\\site-packages (from jsonschema>=2.6->nbformat->notebook==6.4.12) (0.18.0)\n",
      "Requirement already satisfied: cffi>=1.0.1 in c:\\users\\fezeg\\documents\\github\\datascience\\venv\\lib\\site-packages (from argon2-cffi-bindings->argon2-cffi->notebook==6.4.12) (1.16.0)\n",
      "Requirement already satisfied: soupsieve>1.2 in c:\\users\\fezeg\\documents\\github\\datascience\\venv\\lib\\site-packages (from beautifulsoup4->nbconvert>=5->notebook==6.4.12) (2.5)\n",
      "Requirement already satisfied: pycparser in c:\\users\\fezeg\\documents\\github\\datascience\\venv\\lib\\site-packages (from cffi>=1.0.1->argon2-cffi-bindings->argon2-cffi->notebook==6.4.12) (2.21)\n",
      "Requirement already satisfied: parso<0.9.0,>=0.8.3 in c:\\users\\fezeg\\documents\\github\\datascience\\venv\\lib\\site-packages (from jedi>=0.16->ipython>=7.23.1->ipykernel->notebook==6.4.12) (0.8.3)\n",
      "Requirement already satisfied: wcwidth in c:\\users\\fezeg\\documents\\github\\datascience\\venv\\lib\\site-packages (from prompt-toolkit<3.1.0,>=3.0.41->ipython>=7.23.1->ipykernel->notebook==6.4.12) (0.2.13)\n",
      "Requirement already satisfied: executing>=1.2.0 in c:\\users\\fezeg\\documents\\github\\datascience\\venv\\lib\\site-packages (from stack-data->ipython>=7.23.1->ipykernel->notebook==6.4.12) (2.0.1)\n",
      "Requirement already satisfied: asttokens>=2.1.0 in c:\\users\\fezeg\\documents\\github\\datascience\\venv\\lib\\site-packages (from stack-data->ipython>=7.23.1->ipykernel->notebook==6.4.12) (2.4.1)\n",
      "Requirement already satisfied: pure-eval in c:\\users\\fezeg\\documents\\github\\datascience\\venv\\lib\\site-packages (from stack-data->ipython>=7.23.1->ipykernel->notebook==6.4.12) (0.2.2)\n",
      "Downloading notebook-6.4.12-py3-none-any.whl (9.9 MB)\n",
      "   ---------------------------------------- 0.0/9.9 MB ? eta -:--:--\n",
      "   -- ------------------------------------- 0.6/9.9 MB 11.8 MB/s eta 0:00:01\n",
      "   ---- ----------------------------------- 1.1/9.9 MB 12.0 MB/s eta 0:00:01\n",
      "   ------ --------------------------------- 1.5/9.9 MB 12.3 MB/s eta 0:00:01\n",
      "   -------- ------------------------------- 2.1/9.9 MB 12.2 MB/s eta 0:00:01\n",
      "   ---------- ----------------------------- 2.7/9.9 MB 12.3 MB/s eta 0:00:01\n",
      "   ------------- -------------------------- 3.3/9.9 MB 11.7 MB/s eta 0:00:01\n",
      "   --------------- ------------------------ 3.9/9.9 MB 11.8 MB/s eta 0:00:01\n",
      "   ----------------- ---------------------- 4.4/9.9 MB 11.8 MB/s eta 0:00:01\n",
      "   -------------------- ------------------- 5.0/9.9 MB 11.9 MB/s eta 0:00:01\n",
      "   ---------------------- ----------------- 5.6/9.9 MB 12.0 MB/s eta 0:00:01\n",
      "   ------------------------ --------------- 6.2/9.9 MB 11.6 MB/s eta 0:00:01\n",
      "   -------------------------- ------------- 6.6/9.9 MB 11.8 MB/s eta 0:00:01\n",
      "   ---------------------------- ----------- 7.0/9.9 MB 11.8 MB/s eta 0:00:01\n",
      "   ------------------------------ --------- 7.5/9.9 MB 11.8 MB/s eta 0:00:01\n",
      "   -------------------------------- ------- 8.0/9.9 MB 11.8 MB/s eta 0:00:01\n",
      "   ---------------------------------- ----- 8.5/9.9 MB 11.9 MB/s eta 0:00:01\n",
      "   ----------------------------------- ---- 8.9/9.9 MB 11.7 MB/s eta 0:00:01\n",
      "   -------------------------------------- - 9.5/9.9 MB 11.7 MB/s eta 0:00:01\n",
      "   ---------------------------------------  9.9/9.9 MB 11.8 MB/s eta 0:00:01\n",
      "   ---------------------------------------- 9.9/9.9 MB 11.3 MB/s eta 0:00:00\n",
      "Installing collected packages: notebook\n",
      "  Attempting uninstall: notebook\n",
      "    Found existing installation: notebook 7.1.2\n",
      "    Uninstalling notebook-7.1.2:\n"
     ]
    },
    {
     "name": "stderr",
     "output_type": "stream",
     "text": [
      "ERROR: Could not install packages due to an OSError: [WinError 32] O arquivo já está sendo usado por outro processo: 'c:\\\\users\\\\fezeg\\\\documents\\\\github\\\\datascience\\\\venv\\\\scripts\\\\jupyter-notebook.exe'\n",
      "Check the permissions.\n",
      "\n"
     ]
    }
   ],
   "source": [
    "!pip install --upgrade notebook==6.4.12\n"
   ]
  },
  {
   "cell_type": "code",
   "execution_count": null,
   "id": "59d75b3a-0297-4727-9242-5a2d9af0ca91",
   "metadata": {},
   "outputs": [],
   "source": []
  }
 ],
 "metadata": {
  "kernelspec": {
   "display_name": "Python 3 (ipykernel)",
   "language": "python",
   "name": "python3"
  },
  "language_info": {
   "codemirror_mode": {
    "name": "ipython",
    "version": 3
   },
   "file_extension": ".py",
   "mimetype": "text/x-python",
   "name": "python",
   "nbconvert_exporter": "python",
   "pygments_lexer": "ipython3",
   "version": "3.11.1"
  }
 },
 "nbformat": 4,
 "nbformat_minor": 5
}
