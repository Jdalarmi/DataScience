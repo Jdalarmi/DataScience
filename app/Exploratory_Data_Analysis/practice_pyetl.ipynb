{
 "cells": [
  {
   "cell_type": "code",
   "execution_count": 10,
   "id": "8793fa2a-fc18-4652-acf6-a49ec956793b",
   "metadata": {},
   "outputs": [],
   "source": [
    "import pandas as pd\n",
    "import numpy as np"
   ]
  },
  {
   "cell_type": "code",
   "execution_count": 6,
   "id": "f8e36720-7ecb-4da1-a8b9-e7dbe256c104",
   "metadata": {},
   "outputs": [],
   "source": [
    "df = pd.read_excel('../Explore_Data/Data/Student Grades.xlsx')"
   ]
  },
  {
   "cell_type": "code",
   "execution_count": 8,
   "id": "daefffa6-7bad-4c52-abc0-97e72f264ff3",
   "metadata": {},
   "outputs": [
    {
     "data": {
      "text/html": [
       "<div>\n",
       "<style scoped>\n",
       "    .dataframe tbody tr th:only-of-type {\n",
       "        vertical-align: middle;\n",
       "    }\n",
       "\n",
       "    .dataframe tbody tr th {\n",
       "        vertical-align: top;\n",
       "    }\n",
       "\n",
       "    .dataframe thead th {\n",
       "        text-align: right;\n",
       "    }\n",
       "</style>\n",
       "<table border=\"1\" class=\"dataframe\">\n",
       "  <thead>\n",
       "    <tr style=\"text-align: right;\">\n",
       "      <th></th>\n",
       "      <th>Student</th>\n",
       "      <th>Class</th>\n",
       "      <th>Year</th>\n",
       "      <th>Grade</th>\n",
       "    </tr>\n",
       "  </thead>\n",
       "  <tbody>\n",
       "    <tr>\n",
       "      <th>60</th>\n",
       "      <td>Ella</td>\n",
       "      <td>Exploratory Data Analysis</td>\n",
       "      <td>Sophomore</td>\n",
       "      <td>200.0</td>\n",
       "    </tr>\n",
       "  </tbody>\n",
       "</table>\n",
       "</div>"
      ],
      "text/plain": [
       "   Student                      Class       Year  Grade\n",
       "60    Ella  Exploratory Data Analysis  Sophomore  200.0"
      ]
     },
     "execution_count": 8,
     "metadata": {},
     "output_type": "execute_result"
    }
   ],
   "source": [
    "df[df.Grade > 100]"
   ]
  },
  {
   "cell_type": "code",
   "execution_count": 15,
   "id": "eecb1f93-024e-4e3b-964a-755e7cebc4aa",
   "metadata": {},
   "outputs": [
    {
     "data": {
      "text/plain": [
       "Class\n",
       "Intro to Python              26\n",
       "Exploratory Data Analysis    25\n",
       "Intro to SQL                 20\n",
       "Freshman Seminar             12\n",
       "Name: count, dtype: int64"
      ]
     },
     "execution_count": 15,
     "metadata": {},
     "output_type": "execute_result"
    }
   ],
   "source": [
    "df.Class.value_counts()"
   ]
  },
  {
   "cell_type": "code",
   "execution_count": 12,
   "id": "c1118b2c-a29f-46e3-b647-7c56e459197c",
   "metadata": {},
   "outputs": [
    {
     "data": {
      "text/plain": [
       "0              Freshman Seminar\n",
       "1              Freshman Seminar\n",
       "2              Freshman Seminar\n",
       "3              Freshman Seminar\n",
       "4              Freshman Seminar\n",
       "                ...            \n",
       "81                          NaN\n",
       "82                          NaN\n",
       "83    Exploratory Data Analysis\n",
       "84    Exploratory Data Analysis\n",
       "85                          NaN\n",
       "Name: Class, Length: 86, dtype: object"
      ]
     },
     "execution_count": 12,
     "metadata": {},
     "output_type": "execute_result"
    }
   ],
   "source": [
    "df.Class = np.where(df.Class == 'EDA', 'Exploratory Data Analysis', df.Class)\n",
    "df.Class"
   ]
  },
  {
   "cell_type": "code",
   "execution_count": 14,
   "id": "c416d40d-b80e-4ab7-bdc1-9fee49a5111b",
   "metadata": {},
   "outputs": [
    {
     "data": {
      "text/plain": [
       "0              Freshman Seminar\n",
       "1              Freshman Seminar\n",
       "2              Freshman Seminar\n",
       "3              Freshman Seminar\n",
       "4              Freshman Seminar\n",
       "                ...            \n",
       "81                          NaN\n",
       "82                          NaN\n",
       "83    Exploratory Data Analysis\n",
       "84    Exploratory Data Analysis\n",
       "85                          NaN\n",
       "Name: Class, Length: 86, dtype: object"
      ]
     },
     "execution_count": 14,
     "metadata": {},
     "output_type": "execute_result"
    }
   ],
   "source": [
    "df.Class = np.where(df.Class == 'Python', 'Intro to Python', df.Class)\n",
    "df.Class"
   ]
  },
  {
   "cell_type": "code",
   "execution_count": 16,
   "id": "dc9dafb9-32ab-4f56-b29e-0380fa9fd045",
   "metadata": {},
   "outputs": [
    {
     "data": {
      "text/plain": [
       "0      86.0\n",
       "1      86.0\n",
       "2      86.0\n",
       "3      87.0\n",
       "4      90.0\n",
       "      ...  \n",
       "81      NaN\n",
       "82      NaN\n",
       "83     84.0\n",
       "84      NaN\n",
       "85    100.0\n",
       "Name: Grade, Length: 86, dtype: float64"
      ]
     },
     "execution_count": 16,
     "metadata": {},
     "output_type": "execute_result"
    }
   ],
   "source": [
    "df.Grade = np.where(df.Grade > 100, 100, df.Grade)\n",
    "df.Grade"
   ]
  },
  {
   "cell_type": "code",
   "execution_count": 17,
   "id": "99a27c6a-c55c-4988-bb5e-b13afb346cc6",
   "metadata": {},
   "outputs": [
    {
     "data": {
      "text/plain": [
       "count     82.000000\n",
       "mean      84.487805\n",
       "std        8.991414\n",
       "min       45.000000\n",
       "25%       81.000000\n",
       "50%       85.000000\n",
       "75%       90.000000\n",
       "max      100.000000\n",
       "Name: Grade, dtype: float64"
      ]
     },
     "execution_count": 17,
     "metadata": {},
     "output_type": "execute_result"
    }
   ],
   "source": [
    "df.Grade.describe()"
   ]
  },
  {
   "cell_type": "code",
   "execution_count": null,
   "id": "1d5376bd-3acc-4134-a5cc-b1f94620191c",
   "metadata": {},
   "outputs": [],
   "source": []
  }
 ],
 "metadata": {
  "kernelspec": {
   "display_name": "Python 3 (ipykernel)",
   "language": "python",
   "name": "python3"
  },
  "language_info": {
   "codemirror_mode": {
    "name": "ipython",
    "version": 3
   },
   "file_extension": ".py",
   "mimetype": "text/x-python",
   "name": "python",
   "nbconvert_exporter": "python",
   "pygments_lexer": "ipython3",
   "version": "3.11.1"
  }
 },
 "nbformat": 4,
 "nbformat_minor": 5
}
