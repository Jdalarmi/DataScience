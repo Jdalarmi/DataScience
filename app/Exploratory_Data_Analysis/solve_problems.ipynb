{
 "cells": [
  {
   "cell_type": "markdown",
   "metadata": {},
   "source": [
    "# Cleaning Data"
   ]
  },
  {
   "cell_type": "markdown",
   "metadata": {},
   "source": [
    "## 1. Data in Python Request"
   ]
  },
  {
   "cell_type": "code",
   "execution_count": 2,
   "metadata": {},
   "outputs": [
    {
     "ename": "ModuleNotFoundError",
     "evalue": "No module named 'pandas'",
     "output_type": "error",
     "traceback": [
      "\u001b[1;31m---------------------------------------------------------------------------\u001b[0m",
      "\u001b[1;31mModuleNotFoundError\u001b[0m                       Traceback (most recent call last)",
      "Cell \u001b[1;32mIn[2], line 1\u001b[0m\n\u001b[1;32m----> 1\u001b[0m \u001b[38;5;28;01mimport\u001b[39;00m \u001b[38;5;21;01mpandas\u001b[39;00m \u001b[38;5;28;01mas\u001b[39;00m \u001b[38;5;21;01mpd\u001b[39;00m\n\u001b[0;32m      2\u001b[0m \u001b[38;5;28;01mimport\u001b[39;00m \u001b[38;5;21;01mnumpy\u001b[39;00m \u001b[38;5;28;01mas\u001b[39;00m \u001b[38;5;21;01mnp\u001b[39;00m\n\u001b[0;32m      3\u001b[0m \u001b[38;5;28;01mimport\u001b[39;00m \u001b[38;5;21;01mseaborn\u001b[39;00m \u001b[38;5;28;01mas\u001b[39;00m \u001b[38;5;21;01msns\u001b[39;00m\n",
      "\u001b[1;31mModuleNotFoundError\u001b[0m: No module named 'pandas'"
     ]
    }
   ],
   "source": [
    "import pandas as pd\n",
    "import numpy as np\n",
    "import seaborn as sns"
   ]
  },
  {
   "cell_type": "code",
   "execution_count": 3,
   "metadata": {},
   "outputs": [],
   "source": [
    "df = pd.read_excel('../My_Datas/Data/Alarm Survey Data.xlsx')"
   ]
  },
  {
   "cell_type": "code",
   "execution_count": 5,
   "metadata": {},
   "outputs": [
    {
     "data": {
      "text/html": [
       "<div>\n",
       "<style scoped>\n",
       "    .dataframe tbody tr th:only-of-type {\n",
       "        vertical-align: middle;\n",
       "    }\n",
       "\n",
       "    .dataframe tbody tr th {\n",
       "        vertical-align: top;\n",
       "    }\n",
       "\n",
       "    .dataframe thead th {\n",
       "        text-align: right;\n",
       "    }\n",
       "</style>\n",
       "<table border=\"1\" class=\"dataframe\">\n",
       "  <thead>\n",
       "    <tr style=\"text-align: right;\">\n",
       "      <th></th>\n",
       "      <th>survey_id</th>\n",
       "      <th>age</th>\n",
       "      <th>number_of_children</th>\n",
       "      <th>activity_level</th>\n",
       "      <th>sleep_quality</th>\n",
       "      <th>number_of_snoozes</th>\n",
       "      <th>alarm_rating</th>\n",
       "    </tr>\n",
       "  </thead>\n",
       "  <tbody>\n",
       "    <tr>\n",
       "      <th>0</th>\n",
       "      <td>1</td>\n",
       "      <td>34</td>\n",
       "      <td>3.0</td>\n",
       "      <td>active</td>\n",
       "      <td>3.0</td>\n",
       "      <td>1</td>\n",
       "      <td>5 stars</td>\n",
       "    </tr>\n",
       "    <tr>\n",
       "      <th>1</th>\n",
       "      <td>2</td>\n",
       "      <td>31</td>\n",
       "      <td>3.0</td>\n",
       "      <td>light</td>\n",
       "      <td>3.0</td>\n",
       "      <td>3</td>\n",
       "      <td>3 stars</td>\n",
       "    </tr>\n",
       "    <tr>\n",
       "      <th>2</th>\n",
       "      <td>3</td>\n",
       "      <td>18</td>\n",
       "      <td>0.0</td>\n",
       "      <td>light_activity</td>\n",
       "      <td>4.0</td>\n",
       "      <td>1</td>\n",
       "      <td>1 stars</td>\n",
       "    </tr>\n",
       "    <tr>\n",
       "      <th>3</th>\n",
       "      <td>4</td>\n",
       "      <td>42</td>\n",
       "      <td>4.0</td>\n",
       "      <td>active</td>\n",
       "      <td>4.0</td>\n",
       "      <td>1</td>\n",
       "      <td>4 stars</td>\n",
       "    </tr>\n",
       "    <tr>\n",
       "      <th>4</th>\n",
       "      <td>5</td>\n",
       "      <td>30</td>\n",
       "      <td>1.0</td>\n",
       "      <td>light_activity</td>\n",
       "      <td>1.0</td>\n",
       "      <td>4</td>\n",
       "      <td>3 stars</td>\n",
       "    </tr>\n",
       "  </tbody>\n",
       "</table>\n",
       "</div>"
      ],
      "text/plain": [
       "   survey_id  age  number_of_children  activity_level  sleep_quality  \\\n",
       "0          1   34                 3.0          active            3.0   \n",
       "1          2   31                 3.0           light            3.0   \n",
       "2          3   18                 0.0  light_activity            4.0   \n",
       "3          4   42                 4.0          active            4.0   \n",
       "4          5   30                 1.0  light_activity            1.0   \n",
       "\n",
       "   number_of_snoozes alarm_rating  \n",
       "0                  1      5 stars  \n",
       "1                  3      3 stars  \n",
       "2                  1      1 stars  \n",
       "3                  1      4 stars  \n",
       "4                  4      3 stars  "
      ]
     },
     "execution_count": 5,
     "metadata": {},
     "output_type": "execute_result"
    }
   ],
   "source": [
    "df.head()\n"
   ]
  },
  {
   "cell_type": "code",
   "execution_count": 6,
   "metadata": {},
   "outputs": [
    {
     "data": {
      "text/plain": [
       "survey_id               int64\n",
       "age                     int64\n",
       "number_of_children    float64\n",
       "activity_level         object\n",
       "sleep_quality         float64\n",
       "number_of_snoozes       int64\n",
       "alarm_rating           object\n",
       "dtype: object"
      ]
     },
     "execution_count": 6,
     "metadata": {},
     "output_type": "execute_result"
    }
   ],
   "source": [
    "df.dtypes\n"
   ]
  },
  {
   "cell_type": "code",
   "execution_count": 7,
   "metadata": {},
   "outputs": [],
   "source": [
    "df.alarm_rating = pd.to_numeric(df.alarm_rating.str.replace('stars', ''))"
   ]
  },
  {
   "cell_type": "code",
   "execution_count": 8,
   "metadata": {},
   "outputs": [
    {
     "data": {
      "text/html": [
       "<div>\n",
       "<style scoped>\n",
       "    .dataframe tbody tr th:only-of-type {\n",
       "        vertical-align: middle;\n",
       "    }\n",
       "\n",
       "    .dataframe tbody tr th {\n",
       "        vertical-align: top;\n",
       "    }\n",
       "\n",
       "    .dataframe thead th {\n",
       "        text-align: right;\n",
       "    }\n",
       "</style>\n",
       "<table border=\"1\" class=\"dataframe\">\n",
       "  <thead>\n",
       "    <tr style=\"text-align: right;\">\n",
       "      <th></th>\n",
       "      <th>survey_id</th>\n",
       "      <th>age</th>\n",
       "      <th>number_of_children</th>\n",
       "      <th>activity_level</th>\n",
       "      <th>sleep_quality</th>\n",
       "      <th>number_of_snoozes</th>\n",
       "      <th>alarm_rating</th>\n",
       "    </tr>\n",
       "  </thead>\n",
       "  <tbody>\n",
       "    <tr>\n",
       "      <th>0</th>\n",
       "      <td>1</td>\n",
       "      <td>34</td>\n",
       "      <td>3.0</td>\n",
       "      <td>active</td>\n",
       "      <td>3.0</td>\n",
       "      <td>1</td>\n",
       "      <td>5</td>\n",
       "    </tr>\n",
       "    <tr>\n",
       "      <th>1</th>\n",
       "      <td>2</td>\n",
       "      <td>31</td>\n",
       "      <td>3.0</td>\n",
       "      <td>light</td>\n",
       "      <td>3.0</td>\n",
       "      <td>3</td>\n",
       "      <td>3</td>\n",
       "    </tr>\n",
       "    <tr>\n",
       "      <th>2</th>\n",
       "      <td>3</td>\n",
       "      <td>18</td>\n",
       "      <td>0.0</td>\n",
       "      <td>light_activity</td>\n",
       "      <td>4.0</td>\n",
       "      <td>1</td>\n",
       "      <td>1</td>\n",
       "    </tr>\n",
       "    <tr>\n",
       "      <th>3</th>\n",
       "      <td>4</td>\n",
       "      <td>42</td>\n",
       "      <td>4.0</td>\n",
       "      <td>active</td>\n",
       "      <td>4.0</td>\n",
       "      <td>1</td>\n",
       "      <td>4</td>\n",
       "    </tr>\n",
       "    <tr>\n",
       "      <th>4</th>\n",
       "      <td>5</td>\n",
       "      <td>30</td>\n",
       "      <td>1.0</td>\n",
       "      <td>light_activity</td>\n",
       "      <td>1.0</td>\n",
       "      <td>4</td>\n",
       "      <td>3</td>\n",
       "    </tr>\n",
       "    <tr>\n",
       "      <th>...</th>\n",
       "      <td>...</td>\n",
       "      <td>...</td>\n",
       "      <td>...</td>\n",
       "      <td>...</td>\n",
       "      <td>...</td>\n",
       "      <td>...</td>\n",
       "      <td>...</td>\n",
       "    </tr>\n",
       "    <tr>\n",
       "      <th>6428</th>\n",
       "      <td>6362</td>\n",
       "      <td>27</td>\n",
       "      <td>2.0</td>\n",
       "      <td>active</td>\n",
       "      <td>5.0</td>\n",
       "      <td>0</td>\n",
       "      <td>5</td>\n",
       "    </tr>\n",
       "    <tr>\n",
       "      <th>6429</th>\n",
       "      <td>6363</td>\n",
       "      <td>31</td>\n",
       "      <td>1.0</td>\n",
       "      <td>light</td>\n",
       "      <td>4.0</td>\n",
       "      <td>0</td>\n",
       "      <td>4</td>\n",
       "    </tr>\n",
       "    <tr>\n",
       "      <th>6430</th>\n",
       "      <td>6364</td>\n",
       "      <td>26</td>\n",
       "      <td>0.0</td>\n",
       "      <td>lightly active</td>\n",
       "      <td>5.0</td>\n",
       "      <td>0</td>\n",
       "      <td>3</td>\n",
       "    </tr>\n",
       "    <tr>\n",
       "      <th>6431</th>\n",
       "      <td>6365</td>\n",
       "      <td>27</td>\n",
       "      <td>1.0</td>\n",
       "      <td>active</td>\n",
       "      <td>5.0</td>\n",
       "      <td>0</td>\n",
       "      <td>3</td>\n",
       "    </tr>\n",
       "    <tr>\n",
       "      <th>6432</th>\n",
       "      <td>6366</td>\n",
       "      <td>18</td>\n",
       "      <td>0.0</td>\n",
       "      <td>lightly active</td>\n",
       "      <td>4.0</td>\n",
       "      <td>0</td>\n",
       "      <td>1</td>\n",
       "    </tr>\n",
       "  </tbody>\n",
       "</table>\n",
       "<p>6433 rows × 7 columns</p>\n",
       "</div>"
      ],
      "text/plain": [
       "      survey_id  age  number_of_children  activity_level  sleep_quality  \\\n",
       "0             1   34                 3.0          active            3.0   \n",
       "1             2   31                 3.0           light            3.0   \n",
       "2             3   18                 0.0  light_activity            4.0   \n",
       "3             4   42                 4.0          active            4.0   \n",
       "4             5   30                 1.0  light_activity            1.0   \n",
       "...         ...  ...                 ...             ...            ...   \n",
       "6428       6362   27                 2.0          active            5.0   \n",
       "6429       6363   31                 1.0           light            4.0   \n",
       "6430       6364   26                 0.0  lightly active            5.0   \n",
       "6431       6365   27                 1.0          active            5.0   \n",
       "6432       6366   18                 0.0  lightly active            4.0   \n",
       "\n",
       "      number_of_snoozes  alarm_rating  \n",
       "0                     1             5  \n",
       "1                     3             3  \n",
       "2                     1             1  \n",
       "3                     1             4  \n",
       "4                     4             3  \n",
       "...                 ...           ...  \n",
       "6428                  0             5  \n",
       "6429                  0             4  \n",
       "6430                  0             3  \n",
       "6431                  0             3  \n",
       "6432                  0             1  \n",
       "\n",
       "[6433 rows x 7 columns]"
      ]
     },
     "execution_count": 8,
     "metadata": {},
     "output_type": "execute_result"
    }
   ],
   "source": [
    "df"
   ]
  },
  {
   "cell_type": "code",
   "execution_count": 9,
   "metadata": {},
   "outputs": [
    {
     "data": {
      "text/plain": [
       "survey_id               int64\n",
       "age                     int64\n",
       "number_of_children    float64\n",
       "activity_level         object\n",
       "sleep_quality         float64\n",
       "number_of_snoozes       int64\n",
       "alarm_rating            int64\n",
       "dtype: object"
      ]
     },
     "execution_count": 9,
     "metadata": {},
     "output_type": "execute_result"
    }
   ],
   "source": [
    "df.dtypes"
   ]
  },
  {
   "cell_type": "markdown",
   "metadata": {
    "jp-MarkdownHeadingCollapsed": true
   },
   "source": [
    "## 2. Missing Data Check"
   ]
  },
  {
   "cell_type": "code",
   "execution_count": 10,
   "metadata": {},
   "outputs": [
    {
     "data": {
      "text/html": [
       "<div>\n",
       "<style scoped>\n",
       "    .dataframe tbody tr th:only-of-type {\n",
       "        vertical-align: middle;\n",
       "    }\n",
       "\n",
       "    .dataframe tbody tr th {\n",
       "        vertical-align: top;\n",
       "    }\n",
       "\n",
       "    .dataframe thead th {\n",
       "        text-align: right;\n",
       "    }\n",
       "</style>\n",
       "<table border=\"1\" class=\"dataframe\">\n",
       "  <thead>\n",
       "    <tr style=\"text-align: right;\">\n",
       "      <th></th>\n",
       "      <th>survey_id</th>\n",
       "      <th>age</th>\n",
       "      <th>number_of_children</th>\n",
       "      <th>activity_level</th>\n",
       "      <th>sleep_quality</th>\n",
       "      <th>number_of_snoozes</th>\n",
       "      <th>alarm_rating</th>\n",
       "    </tr>\n",
       "  </thead>\n",
       "  <tbody>\n",
       "    <tr>\n",
       "      <th>10</th>\n",
       "      <td>11</td>\n",
       "      <td>28</td>\n",
       "      <td>2.0</td>\n",
       "      <td>light_activity</td>\n",
       "      <td>NaN</td>\n",
       "      <td>3</td>\n",
       "      <td>4</td>\n",
       "    </tr>\n",
       "    <tr>\n",
       "      <th>18</th>\n",
       "      <td>19</td>\n",
       "      <td>38</td>\n",
       "      <td>2.0</td>\n",
       "      <td>lightly active</td>\n",
       "      <td>NaN</td>\n",
       "      <td>1</td>\n",
       "      <td>5</td>\n",
       "    </tr>\n",
       "    <tr>\n",
       "      <th>23</th>\n",
       "      <td>24</td>\n",
       "      <td>24</td>\n",
       "      <td>2.0</td>\n",
       "      <td>very active</td>\n",
       "      <td>NaN</td>\n",
       "      <td>1</td>\n",
       "      <td>5</td>\n",
       "    </tr>\n",
       "    <tr>\n",
       "      <th>26</th>\n",
       "      <td>27</td>\n",
       "      <td>25</td>\n",
       "      <td>2.0</td>\n",
       "      <td>lightly active</td>\n",
       "      <td>NaN</td>\n",
       "      <td>1</td>\n",
       "      <td>2</td>\n",
       "    </tr>\n",
       "    <tr>\n",
       "      <th>28</th>\n",
       "      <td>29</td>\n",
       "      <td>29</td>\n",
       "      <td>2.0</td>\n",
       "      <td>lightly active</td>\n",
       "      <td>NaN</td>\n",
       "      <td>1</td>\n",
       "      <td>2</td>\n",
       "    </tr>\n",
       "    <tr>\n",
       "      <th>...</th>\n",
       "      <td>...</td>\n",
       "      <td>...</td>\n",
       "      <td>...</td>\n",
       "      <td>...</td>\n",
       "      <td>...</td>\n",
       "      <td>...</td>\n",
       "      <td>...</td>\n",
       "    </tr>\n",
       "    <tr>\n",
       "      <th>6310</th>\n",
       "      <td>6311</td>\n",
       "      <td>30</td>\n",
       "      <td>2.0</td>\n",
       "      <td>very active</td>\n",
       "      <td>NaN</td>\n",
       "      <td>0</td>\n",
       "      <td>3</td>\n",
       "    </tr>\n",
       "    <tr>\n",
       "      <th>6319</th>\n",
       "      <td>6320</td>\n",
       "      <td>44</td>\n",
       "      <td>2.0</td>\n",
       "      <td>lightly active</td>\n",
       "      <td>NaN</td>\n",
       "      <td>0</td>\n",
       "      <td>3</td>\n",
       "    </tr>\n",
       "    <tr>\n",
       "      <th>6375</th>\n",
       "      <td>6309</td>\n",
       "      <td>32</td>\n",
       "      <td>3.0</td>\n",
       "      <td>light</td>\n",
       "      <td>NaN</td>\n",
       "      <td>0</td>\n",
       "      <td>3</td>\n",
       "    </tr>\n",
       "    <tr>\n",
       "      <th>6377</th>\n",
       "      <td>6311</td>\n",
       "      <td>30</td>\n",
       "      <td>2.0</td>\n",
       "      <td>very active</td>\n",
       "      <td>NaN</td>\n",
       "      <td>0</td>\n",
       "      <td>3</td>\n",
       "    </tr>\n",
       "    <tr>\n",
       "      <th>6386</th>\n",
       "      <td>6320</td>\n",
       "      <td>44</td>\n",
       "      <td>2.0</td>\n",
       "      <td>lightly active</td>\n",
       "      <td>NaN</td>\n",
       "      <td>0</td>\n",
       "      <td>3</td>\n",
       "    </tr>\n",
       "  </tbody>\n",
       "</table>\n",
       "<p>351 rows × 7 columns</p>\n",
       "</div>"
      ],
      "text/plain": [
       "      survey_id  age  number_of_children  activity_level  sleep_quality  \\\n",
       "10           11   28                 2.0  light_activity            NaN   \n",
       "18           19   38                 2.0  lightly active            NaN   \n",
       "23           24   24                 2.0     very active            NaN   \n",
       "26           27   25                 2.0  lightly active            NaN   \n",
       "28           29   29                 2.0  lightly active            NaN   \n",
       "...         ...  ...                 ...             ...            ...   \n",
       "6310       6311   30                 2.0     very active            NaN   \n",
       "6319       6320   44                 2.0  lightly active            NaN   \n",
       "6375       6309   32                 3.0           light            NaN   \n",
       "6377       6311   30                 2.0     very active            NaN   \n",
       "6386       6320   44                 2.0  lightly active            NaN   \n",
       "\n",
       "      number_of_snoozes  alarm_rating  \n",
       "10                    3             4  \n",
       "18                    1             5  \n",
       "23                    1             5  \n",
       "26                    1             2  \n",
       "28                    1             2  \n",
       "...                 ...           ...  \n",
       "6310                  0             3  \n",
       "6319                  0             3  \n",
       "6375                  0             3  \n",
       "6377                  0             3  \n",
       "6386                  0             3  \n",
       "\n",
       "[351 rows x 7 columns]"
      ]
     },
     "execution_count": 10,
     "metadata": {},
     "output_type": "execute_result"
    }
   ],
   "source": [
    "df[df.isna().any(axis=1)]"
   ]
  },
  {
   "cell_type": "code",
   "execution_count": 11,
   "metadata": {},
   "outputs": [
    {
     "data": {
      "text/plain": [
       "sleep_quality\n",
       "5.0    2721\n",
       "4.0    2261\n",
       "3.0     997\n",
       "NaN     351\n",
       "1.0     103\n",
       "Name: count, dtype: int64"
      ]
     },
     "execution_count": 11,
     "metadata": {},
     "output_type": "execute_result"
    }
   ],
   "source": [
    "df.sleep_quality.value_counts(dropna=False)"
   ]
  },
  {
   "cell_type": "code",
   "execution_count": 12,
   "metadata": {},
   "outputs": [
    {
     "name": "stderr",
     "output_type": "stream",
     "text": [
      "C:\\Users\\Fezeg\\AppData\\Local\\Temp\\ipykernel_13068\\178404303.py:1: FutureWarning: A value is trying to be set on a copy of a DataFrame or Series through chained assignment using an inplace method.\n",
      "The behavior will change in pandas 3.0. This inplace method will never work because the intermediate object on which we are setting values always behaves as a copy.\n",
      "\n",
      "For example, when doing 'df[col].method(value, inplace=True)', try using 'df.method({col: value}, inplace=True)' or df[col] = df[col].method(value) instead, to perform the operation inplace on the original object.\n",
      "\n",
      "\n",
      "  df.sleep_quality.fillna(2, inplace=True)\n"
     ]
    }
   ],
   "source": [
    "df.sleep_quality.fillna(2, inplace=True)"
   ]
  },
  {
   "cell_type": "code",
   "execution_count": 13,
   "metadata": {},
   "outputs": [
    {
     "name": "stdout",
     "output_type": "stream",
     "text": [
      "<class 'pandas.core.frame.DataFrame'>\n",
      "RangeIndex: 6433 entries, 0 to 6432\n",
      "Data columns (total 7 columns):\n",
      " #   Column              Non-Null Count  Dtype  \n",
      "---  ------              --------------  -----  \n",
      " 0   survey_id           6433 non-null   int64  \n",
      " 1   age                 6433 non-null   int64  \n",
      " 2   number_of_children  6433 non-null   float64\n",
      " 3   activity_level      6433 non-null   object \n",
      " 4   sleep_quality       6433 non-null   float64\n",
      " 5   number_of_snoozes   6433 non-null   int64  \n",
      " 6   alarm_rating        6433 non-null   int64  \n",
      "dtypes: float64(2), int64(4), object(1)\n",
      "memory usage: 351.9+ KB\n"
     ]
    }
   ],
   "source": [
    "df.info()"
   ]
  },
  {
   "cell_type": "markdown",
   "metadata": {
    "jp-MarkdownHeadingCollapsed": true
   },
   "source": [
    "## 3. Inconsistent Text & Typos Check\n"
   ]
  },
  {
   "cell_type": "code",
   "execution_count": 14,
   "metadata": {},
   "outputs": [
    {
     "data": {
      "text/html": [
       "<div>\n",
       "<style scoped>\n",
       "    .dataframe tbody tr th:only-of-type {\n",
       "        vertical-align: middle;\n",
       "    }\n",
       "\n",
       "    .dataframe tbody tr th {\n",
       "        vertical-align: top;\n",
       "    }\n",
       "\n",
       "    .dataframe thead th {\n",
       "        text-align: right;\n",
       "    }\n",
       "</style>\n",
       "<table border=\"1\" class=\"dataframe\">\n",
       "  <thead>\n",
       "    <tr style=\"text-align: right;\">\n",
       "      <th></th>\n",
       "      <th>survey_id</th>\n",
       "      <th>age</th>\n",
       "      <th>number_of_children</th>\n",
       "      <th>activity_level</th>\n",
       "      <th>sleep_quality</th>\n",
       "      <th>number_of_snoozes</th>\n",
       "      <th>alarm_rating</th>\n",
       "    </tr>\n",
       "  </thead>\n",
       "  <tbody>\n",
       "    <tr>\n",
       "      <th>0</th>\n",
       "      <td>1</td>\n",
       "      <td>34</td>\n",
       "      <td>3.0</td>\n",
       "      <td>active</td>\n",
       "      <td>3.0</td>\n",
       "      <td>1</td>\n",
       "      <td>5</td>\n",
       "    </tr>\n",
       "    <tr>\n",
       "      <th>1</th>\n",
       "      <td>2</td>\n",
       "      <td>31</td>\n",
       "      <td>3.0</td>\n",
       "      <td>light</td>\n",
       "      <td>3.0</td>\n",
       "      <td>3</td>\n",
       "      <td>3</td>\n",
       "    </tr>\n",
       "    <tr>\n",
       "      <th>2</th>\n",
       "      <td>3</td>\n",
       "      <td>18</td>\n",
       "      <td>0.0</td>\n",
       "      <td>light_activity</td>\n",
       "      <td>4.0</td>\n",
       "      <td>1</td>\n",
       "      <td>1</td>\n",
       "    </tr>\n",
       "    <tr>\n",
       "      <th>3</th>\n",
       "      <td>4</td>\n",
       "      <td>42</td>\n",
       "      <td>4.0</td>\n",
       "      <td>active</td>\n",
       "      <td>4.0</td>\n",
       "      <td>1</td>\n",
       "      <td>4</td>\n",
       "    </tr>\n",
       "    <tr>\n",
       "      <th>4</th>\n",
       "      <td>5</td>\n",
       "      <td>30</td>\n",
       "      <td>1.0</td>\n",
       "      <td>light_activity</td>\n",
       "      <td>1.0</td>\n",
       "      <td>4</td>\n",
       "      <td>3</td>\n",
       "    </tr>\n",
       "  </tbody>\n",
       "</table>\n",
       "</div>"
      ],
      "text/plain": [
       "   survey_id  age  number_of_children  activity_level  sleep_quality  \\\n",
       "0          1   34                 3.0          active            3.0   \n",
       "1          2   31                 3.0           light            3.0   \n",
       "2          3   18                 0.0  light_activity            4.0   \n",
       "3          4   42                 4.0          active            4.0   \n",
       "4          5   30                 1.0  light_activity            1.0   \n",
       "\n",
       "   number_of_snoozes  alarm_rating  \n",
       "0                  1             5  \n",
       "1                  3             3  \n",
       "2                  1             1  \n",
       "3                  1             4  \n",
       "4                  4             3  "
      ]
     },
     "execution_count": 14,
     "metadata": {},
     "output_type": "execute_result"
    }
   ],
   "source": [
    "df.head()"
   ]
  },
  {
   "cell_type": "code",
   "execution_count": 15,
   "metadata": {},
   "outputs": [
    {
     "data": {
      "text/plain": [
       "activity_level\n",
       "active            2450\n",
       "lightly active    2289\n",
       "light_activity     691\n",
       "very active        669\n",
       "light              334\n",
       "Name: count, dtype: int64"
      ]
     },
     "execution_count": 15,
     "metadata": {},
     "output_type": "execute_result"
    }
   ],
   "source": [
    "df.activity_level.value_counts()"
   ]
  },
  {
   "cell_type": "code",
   "execution_count": 16,
   "metadata": {},
   "outputs": [],
   "source": [
    "df.activity_level = np.where(df.activity_level.isin(['light_activity', 'light']), 'lightly active', df.activity_level)"
   ]
  },
  {
   "cell_type": "markdown",
   "metadata": {
    "jp-MarkdownHeadingCollapsed": true
   },
   "source": [
    "## 4. Duplicated Data Check\n",
    "- Find any duplicated data\n",
    "- Deal with the duplicate data"
   ]
  },
  {
   "cell_type": "code",
   "execution_count": 17,
   "metadata": {},
   "outputs": [
    {
     "data": {
      "text/plain": [
       "(6433, 7)"
      ]
     },
     "execution_count": 17,
     "metadata": {},
     "output_type": "execute_result"
    }
   ],
   "source": [
    "df.shape"
   ]
  },
  {
   "cell_type": "code",
   "execution_count": 18,
   "metadata": {},
   "outputs": [],
   "source": [
    "df=df[~df.duplicated()]"
   ]
  },
  {
   "cell_type": "code",
   "execution_count": 19,
   "metadata": {},
   "outputs": [
    {
     "data": {
      "text/html": [
       "<div>\n",
       "<style scoped>\n",
       "    .dataframe tbody tr th:only-of-type {\n",
       "        vertical-align: middle;\n",
       "    }\n",
       "\n",
       "    .dataframe tbody tr th {\n",
       "        vertical-align: top;\n",
       "    }\n",
       "\n",
       "    .dataframe thead th {\n",
       "        text-align: right;\n",
       "    }\n",
       "</style>\n",
       "<table border=\"1\" class=\"dataframe\">\n",
       "  <thead>\n",
       "    <tr style=\"text-align: right;\">\n",
       "      <th></th>\n",
       "      <th>survey_id</th>\n",
       "      <th>age</th>\n",
       "      <th>number_of_children</th>\n",
       "      <th>activity_level</th>\n",
       "      <th>sleep_quality</th>\n",
       "      <th>number_of_snoozes</th>\n",
       "      <th>alarm_rating</th>\n",
       "    </tr>\n",
       "  </thead>\n",
       "  <tbody>\n",
       "    <tr>\n",
       "      <th>0</th>\n",
       "      <td>1</td>\n",
       "      <td>34</td>\n",
       "      <td>3.0</td>\n",
       "      <td>active</td>\n",
       "      <td>3.0</td>\n",
       "      <td>1</td>\n",
       "      <td>5</td>\n",
       "    </tr>\n",
       "    <tr>\n",
       "      <th>1</th>\n",
       "      <td>2</td>\n",
       "      <td>31</td>\n",
       "      <td>3.0</td>\n",
       "      <td>lightly active</td>\n",
       "      <td>3.0</td>\n",
       "      <td>3</td>\n",
       "      <td>3</td>\n",
       "    </tr>\n",
       "    <tr>\n",
       "      <th>2</th>\n",
       "      <td>3</td>\n",
       "      <td>18</td>\n",
       "      <td>0.0</td>\n",
       "      <td>lightly active</td>\n",
       "      <td>4.0</td>\n",
       "      <td>1</td>\n",
       "      <td>1</td>\n",
       "    </tr>\n",
       "    <tr>\n",
       "      <th>3</th>\n",
       "      <td>4</td>\n",
       "      <td>42</td>\n",
       "      <td>4.0</td>\n",
       "      <td>active</td>\n",
       "      <td>4.0</td>\n",
       "      <td>1</td>\n",
       "      <td>4</td>\n",
       "    </tr>\n",
       "    <tr>\n",
       "      <th>4</th>\n",
       "      <td>5</td>\n",
       "      <td>30</td>\n",
       "      <td>1.0</td>\n",
       "      <td>lightly active</td>\n",
       "      <td>1.0</td>\n",
       "      <td>4</td>\n",
       "      <td>3</td>\n",
       "    </tr>\n",
       "    <tr>\n",
       "      <th>...</th>\n",
       "      <td>...</td>\n",
       "      <td>...</td>\n",
       "      <td>...</td>\n",
       "      <td>...</td>\n",
       "      <td>...</td>\n",
       "      <td>...</td>\n",
       "      <td>...</td>\n",
       "    </tr>\n",
       "    <tr>\n",
       "      <th>6361</th>\n",
       "      <td>6362</td>\n",
       "      <td>27</td>\n",
       "      <td>2.0</td>\n",
       "      <td>active</td>\n",
       "      <td>5.0</td>\n",
       "      <td>0</td>\n",
       "      <td>5</td>\n",
       "    </tr>\n",
       "    <tr>\n",
       "      <th>6362</th>\n",
       "      <td>6363</td>\n",
       "      <td>31</td>\n",
       "      <td>1.0</td>\n",
       "      <td>lightly active</td>\n",
       "      <td>4.0</td>\n",
       "      <td>0</td>\n",
       "      <td>4</td>\n",
       "    </tr>\n",
       "    <tr>\n",
       "      <th>6363</th>\n",
       "      <td>6364</td>\n",
       "      <td>26</td>\n",
       "      <td>0.0</td>\n",
       "      <td>lightly active</td>\n",
       "      <td>5.0</td>\n",
       "      <td>0</td>\n",
       "      <td>3</td>\n",
       "    </tr>\n",
       "    <tr>\n",
       "      <th>6364</th>\n",
       "      <td>6365</td>\n",
       "      <td>27</td>\n",
       "      <td>1.0</td>\n",
       "      <td>active</td>\n",
       "      <td>5.0</td>\n",
       "      <td>0</td>\n",
       "      <td>3</td>\n",
       "    </tr>\n",
       "    <tr>\n",
       "      <th>6365</th>\n",
       "      <td>6366</td>\n",
       "      <td>18</td>\n",
       "      <td>0.0</td>\n",
       "      <td>lightly active</td>\n",
       "      <td>4.0</td>\n",
       "      <td>0</td>\n",
       "      <td>1</td>\n",
       "    </tr>\n",
       "  </tbody>\n",
       "</table>\n",
       "<p>6366 rows × 7 columns</p>\n",
       "</div>"
      ],
      "text/plain": [
       "      survey_id  age  number_of_children  activity_level  sleep_quality  \\\n",
       "0             1   34                 3.0          active            3.0   \n",
       "1             2   31                 3.0  lightly active            3.0   \n",
       "2             3   18                 0.0  lightly active            4.0   \n",
       "3             4   42                 4.0          active            4.0   \n",
       "4             5   30                 1.0  lightly active            1.0   \n",
       "...         ...  ...                 ...             ...            ...   \n",
       "6361       6362   27                 2.0          active            5.0   \n",
       "6362       6363   31                 1.0  lightly active            4.0   \n",
       "6363       6364   26                 0.0  lightly active            5.0   \n",
       "6364       6365   27                 1.0          active            5.0   \n",
       "6365       6366   18                 0.0  lightly active            4.0   \n",
       "\n",
       "      number_of_snoozes  alarm_rating  \n",
       "0                     1             5  \n",
       "1                     3             3  \n",
       "2                     1             1  \n",
       "3                     1             4  \n",
       "4                     4             3  \n",
       "...                 ...           ...  \n",
       "6361                  0             5  \n",
       "6362                  0             4  \n",
       "6363                  0             3  \n",
       "6364                  0             3  \n",
       "6365                  0             1  \n",
       "\n",
       "[6366 rows x 7 columns]"
      ]
     },
     "execution_count": 19,
     "metadata": {},
     "output_type": "execute_result"
    }
   ],
   "source": [
    "df"
   ]
  },
  {
   "cell_type": "markdown",
   "metadata": {
    "jp-MarkdownHeadingCollapsed": true
   },
   "source": [
    "## 5. Outliers Check"
   ]
  },
  {
   "cell_type": "markdown",
   "metadata": {},
   "source": [
    "* Find any outliers\n",
    "* Deal with the outliers"
   ]
  },
  {
   "cell_type": "code",
   "execution_count": 20,
   "metadata": {},
   "outputs": [
    {
     "data": {
      "text/html": [
       "<div>\n",
       "<style scoped>\n",
       "    .dataframe tbody tr th:only-of-type {\n",
       "        vertical-align: middle;\n",
       "    }\n",
       "\n",
       "    .dataframe tbody tr th {\n",
       "        vertical-align: top;\n",
       "    }\n",
       "\n",
       "    .dataframe thead th {\n",
       "        text-align: right;\n",
       "    }\n",
       "</style>\n",
       "<table border=\"1\" class=\"dataframe\">\n",
       "  <thead>\n",
       "    <tr style=\"text-align: right;\">\n",
       "      <th></th>\n",
       "      <th>survey_id</th>\n",
       "      <th>age</th>\n",
       "      <th>number_of_children</th>\n",
       "      <th>activity_level</th>\n",
       "      <th>sleep_quality</th>\n",
       "      <th>number_of_snoozes</th>\n",
       "      <th>alarm_rating</th>\n",
       "    </tr>\n",
       "  </thead>\n",
       "  <tbody>\n",
       "    <tr>\n",
       "      <th>0</th>\n",
       "      <td>1</td>\n",
       "      <td>34</td>\n",
       "      <td>3.0</td>\n",
       "      <td>active</td>\n",
       "      <td>3.0</td>\n",
       "      <td>1</td>\n",
       "      <td>5</td>\n",
       "    </tr>\n",
       "    <tr>\n",
       "      <th>1</th>\n",
       "      <td>2</td>\n",
       "      <td>31</td>\n",
       "      <td>3.0</td>\n",
       "      <td>lightly active</td>\n",
       "      <td>3.0</td>\n",
       "      <td>3</td>\n",
       "      <td>3</td>\n",
       "    </tr>\n",
       "    <tr>\n",
       "      <th>2</th>\n",
       "      <td>3</td>\n",
       "      <td>18</td>\n",
       "      <td>0.0</td>\n",
       "      <td>lightly active</td>\n",
       "      <td>4.0</td>\n",
       "      <td>1</td>\n",
       "      <td>1</td>\n",
       "    </tr>\n",
       "    <tr>\n",
       "      <th>3</th>\n",
       "      <td>4</td>\n",
       "      <td>42</td>\n",
       "      <td>4.0</td>\n",
       "      <td>active</td>\n",
       "      <td>4.0</td>\n",
       "      <td>1</td>\n",
       "      <td>4</td>\n",
       "    </tr>\n",
       "    <tr>\n",
       "      <th>4</th>\n",
       "      <td>5</td>\n",
       "      <td>30</td>\n",
       "      <td>1.0</td>\n",
       "      <td>lightly active</td>\n",
       "      <td>1.0</td>\n",
       "      <td>4</td>\n",
       "      <td>3</td>\n",
       "    </tr>\n",
       "  </tbody>\n",
       "</table>\n",
       "</div>"
      ],
      "text/plain": [
       "   survey_id  age  number_of_children  activity_level  sleep_quality  \\\n",
       "0          1   34                 3.0          active            3.0   \n",
       "1          2   31                 3.0  lightly active            3.0   \n",
       "2          3   18                 0.0  lightly active            4.0   \n",
       "3          4   42                 4.0          active            4.0   \n",
       "4          5   30                 1.0  lightly active            1.0   \n",
       "\n",
       "   number_of_snoozes  alarm_rating  \n",
       "0                  1             5  \n",
       "1                  3             3  \n",
       "2                  1             1  \n",
       "3                  1             4  \n",
       "4                  4             3  "
      ]
     },
     "execution_count": 20,
     "metadata": {},
     "output_type": "execute_result"
    }
   ],
   "source": [
    "df.head()"
   ]
  },
  {
   "cell_type": "code",
   "execution_count": 24,
   "metadata": {},
   "outputs": [
    {
     "data": {
      "image/png": "[encoded data removed]",
      "text/plain": [
       "<Figure size 600x800 with 6 Axes>"
      ]
     },
     "metadata": {},
     "output_type": "display_data"
    }
   ],
   "source": [
    "df.hist(figsize=(6, 8));"
   ]
  },
  {
   "cell_type": "code",
   "execution_count": 26,
   "metadata": {},
   "outputs": [
    {
     "data": {
      "text/plain": [
       "<Axes: xlabel='number_of_snoozes', ylabel='Count'>"
      ]
     },
     "execution_count": 26,
     "metadata": {},
     "output_type": "execute_result"
    },
    {
     "data": {
      "image/png": "[encoded data removed]",
      "text/plain": [
       "<Figure size 640x480 with 1 Axes>"
      ]
     },
     "metadata": {},
     "output_type": "display_data"
    }
   ],
   "source": [
    "sns.histplot(df.number_of_snoozes)"
   ]
  },
  {
   "cell_type": "code",
   "execution_count": 27,
   "metadata": {},
   "outputs": [
    {
     "data": {
      "text/plain": [
       "<Axes: xlabel='number_of_snoozes'>"
      ]
     },
     "execution_count": 27,
     "metadata": {},
     "output_type": "execute_result"
    },
    {
     "data": {
      "image/png": "[encoded data removed]",
      "text/plain": [
       "<Figure size 640x480 with 1 Axes>"
      ]
     },
     "metadata": {},
     "output_type": "display_data"
    }
   ],
   "source": [
    "sns.boxplot(x = df.number_of_snoozes)"
   ]
  },
  {
   "cell_type": "code",
   "execution_count": 28,
   "metadata": {},
   "outputs": [
    {
     "data": {
      "text/plain": [
       "number_of_snoozes\n",
       "0     3300\n",
       "1     1229\n",
       "2      693\n",
       "4      427\n",
       "5      345\n",
       "3      309\n",
       "6       59\n",
       "8        2\n",
       "19       1\n",
       "7        1\n",
       "Name: count, dtype: int64"
      ]
     },
     "execution_count": 28,
     "metadata": {},
     "output_type": "execute_result"
    }
   ],
   "source": [
    "df.number_of_snoozes.value_counts()"
   ]
  },
  {
   "cell_type": "code",
   "execution_count": 32,
   "metadata": {},
   "outputs": [
    {
     "data": {
      "text/html": [
       "<div>\n",
       "<style scoped>\n",
       "    .dataframe tbody tr th:only-of-type {\n",
       "        vertical-align: middle;\n",
       "    }\n",
       "\n",
       "    .dataframe tbody tr th {\n",
       "        vertical-align: top;\n",
       "    }\n",
       "\n",
       "    .dataframe thead th {\n",
       "        text-align: right;\n",
       "    }\n",
       "</style>\n",
       "<table border=\"1\" class=\"dataframe\">\n",
       "  <thead>\n",
       "    <tr style=\"text-align: right;\">\n",
       "      <th></th>\n",
       "      <th>survey_id</th>\n",
       "      <th>age</th>\n",
       "      <th>number_of_children</th>\n",
       "      <th>activity_level</th>\n",
       "      <th>sleep_quality</th>\n",
       "      <th>number_of_snoozes</th>\n",
       "      <th>alarm_rating</th>\n",
       "    </tr>\n",
       "  </thead>\n",
       "  <tbody>\n",
       "    <tr>\n",
       "      <th>0</th>\n",
       "      <td>1</td>\n",
       "      <td>34</td>\n",
       "      <td>3.0</td>\n",
       "      <td>active</td>\n",
       "      <td>3.0</td>\n",
       "      <td>1</td>\n",
       "      <td>5</td>\n",
       "    </tr>\n",
       "    <tr>\n",
       "      <th>1</th>\n",
       "      <td>2</td>\n",
       "      <td>31</td>\n",
       "      <td>3.0</td>\n",
       "      <td>lightly active</td>\n",
       "      <td>3.0</td>\n",
       "      <td>3</td>\n",
       "      <td>3</td>\n",
       "    </tr>\n",
       "    <tr>\n",
       "      <th>2</th>\n",
       "      <td>3</td>\n",
       "      <td>18</td>\n",
       "      <td>0.0</td>\n",
       "      <td>lightly active</td>\n",
       "      <td>4.0</td>\n",
       "      <td>1</td>\n",
       "      <td>1</td>\n",
       "    </tr>\n",
       "    <tr>\n",
       "      <th>3</th>\n",
       "      <td>4</td>\n",
       "      <td>42</td>\n",
       "      <td>4.0</td>\n",
       "      <td>active</td>\n",
       "      <td>4.0</td>\n",
       "      <td>1</td>\n",
       "      <td>4</td>\n",
       "    </tr>\n",
       "    <tr>\n",
       "      <th>4</th>\n",
       "      <td>5</td>\n",
       "      <td>30</td>\n",
       "      <td>1.0</td>\n",
       "      <td>lightly active</td>\n",
       "      <td>1.0</td>\n",
       "      <td>4</td>\n",
       "      <td>3</td>\n",
       "    </tr>\n",
       "    <tr>\n",
       "      <th>...</th>\n",
       "      <td>...</td>\n",
       "      <td>...</td>\n",
       "      <td>...</td>\n",
       "      <td>...</td>\n",
       "      <td>...</td>\n",
       "      <td>...</td>\n",
       "      <td>...</td>\n",
       "    </tr>\n",
       "    <tr>\n",
       "      <th>6361</th>\n",
       "      <td>6362</td>\n",
       "      <td>27</td>\n",
       "      <td>2.0</td>\n",
       "      <td>active</td>\n",
       "      <td>5.0</td>\n",
       "      <td>0</td>\n",
       "      <td>5</td>\n",
       "    </tr>\n",
       "    <tr>\n",
       "      <th>6362</th>\n",
       "      <td>6363</td>\n",
       "      <td>31</td>\n",
       "      <td>1.0</td>\n",
       "      <td>lightly active</td>\n",
       "      <td>4.0</td>\n",
       "      <td>0</td>\n",
       "      <td>4</td>\n",
       "    </tr>\n",
       "    <tr>\n",
       "      <th>6363</th>\n",
       "      <td>6364</td>\n",
       "      <td>26</td>\n",
       "      <td>0.0</td>\n",
       "      <td>lightly active</td>\n",
       "      <td>5.0</td>\n",
       "      <td>0</td>\n",
       "      <td>3</td>\n",
       "    </tr>\n",
       "    <tr>\n",
       "      <th>6364</th>\n",
       "      <td>6365</td>\n",
       "      <td>27</td>\n",
       "      <td>1.0</td>\n",
       "      <td>active</td>\n",
       "      <td>5.0</td>\n",
       "      <td>0</td>\n",
       "      <td>3</td>\n",
       "    </tr>\n",
       "    <tr>\n",
       "      <th>6365</th>\n",
       "      <td>6366</td>\n",
       "      <td>18</td>\n",
       "      <td>0.0</td>\n",
       "      <td>lightly active</td>\n",
       "      <td>4.0</td>\n",
       "      <td>0</td>\n",
       "      <td>1</td>\n",
       "    </tr>\n",
       "  </tbody>\n",
       "</table>\n",
       "<p>6365 rows × 7 columns</p>\n",
       "</div>"
      ],
      "text/plain": [
       "      survey_id  age  number_of_children  activity_level  sleep_quality  \\\n",
       "0             1   34                 3.0          active            3.0   \n",
       "1             2   31                 3.0  lightly active            3.0   \n",
       "2             3   18                 0.0  lightly active            4.0   \n",
       "3             4   42                 4.0          active            4.0   \n",
       "4             5   30                 1.0  lightly active            1.0   \n",
       "...         ...  ...                 ...             ...            ...   \n",
       "6361       6362   27                 2.0          active            5.0   \n",
       "6362       6363   31                 1.0  lightly active            4.0   \n",
       "6363       6364   26                 0.0  lightly active            5.0   \n",
       "6364       6365   27                 1.0          active            5.0   \n",
       "6365       6366   18                 0.0  lightly active            4.0   \n",
       "\n",
       "      number_of_snoozes  alarm_rating  \n",
       "0                     1             5  \n",
       "1                     3             3  \n",
       "2                     1             1  \n",
       "3                     1             4  \n",
       "4                     4             3  \n",
       "...                 ...           ...  \n",
       "6361                  0             5  \n",
       "6362                  0             4  \n",
       "6363                  0             3  \n",
       "6364                  0             3  \n",
       "6365                  0             1  \n",
       "\n",
       "[6365 rows x 7 columns]"
      ]
     },
     "execution_count": 32,
     "metadata": {},
     "output_type": "execute_result"
    }
   ],
   "source": [
    "df = df[df.number_of_snoozes < 19]\n",
    "df"
   ]
  },
  {
   "cell_type": "markdown",
   "metadata": {
    "jp-MarkdownHeadingCollapsed": true
   },
   "source": [
    "## 6. Data Issues Check"
   ]
  },
  {
   "cell_type": "markdown",
   "metadata": {},
   "source": [
    "* Quickly explore the updated DataFrame. How do things look now after handling the data issues compared to the original DataFrame?"
   ]
  },
  {
   "cell_type": "code",
   "execution_count": 36,
   "metadata": {},
   "outputs": [
    {
     "data": {
      "text/html": [
       "<div>\n",
       "<style scoped>\n",
       "    .dataframe tbody tr th:only-of-type {\n",
       "        vertical-align: middle;\n",
       "    }\n",
       "\n",
       "    .dataframe tbody tr th {\n",
       "        vertical-align: top;\n",
       "    }\n",
       "\n",
       "    .dataframe thead th {\n",
       "        text-align: right;\n",
       "    }\n",
       "</style>\n",
       "<table border=\"1\" class=\"dataframe\">\n",
       "  <thead>\n",
       "    <tr style=\"text-align: right;\">\n",
       "      <th></th>\n",
       "      <th>survey_id</th>\n",
       "      <th>age</th>\n",
       "      <th>number_of_children</th>\n",
       "      <th>activity_level</th>\n",
       "      <th>sleep_quality</th>\n",
       "      <th>number_of_snoozes</th>\n",
       "      <th>alarm_rating</th>\n",
       "    </tr>\n",
       "  </thead>\n",
       "  <tbody>\n",
       "  </tbody>\n",
       "</table>\n",
       "</div>"
      ],
      "text/plain": [
       "Empty DataFrame\n",
       "Columns: [survey_id, age, number_of_children, activity_level, sleep_quality, number_of_snoozes, alarm_rating]\n",
       "Index: []"
      ]
     },
     "execution_count": 36,
     "metadata": {},
     "output_type": "execute_result"
    }
   ],
   "source": [
    "# missing data\n",
    "df[df.isna().any(axis=1)]"
   ]
  },
  {
   "cell_type": "code",
   "execution_count": 35,
   "metadata": {},
   "outputs": [
    {
     "data": {
      "text/plain": [
       "activity_level\n",
       "lightly active    3287\n",
       "active            2422\n",
       "very active        656\n",
       "Name: count, dtype: int64"
      ]
     },
     "execution_count": 35,
     "metadata": {},
     "output_type": "execute_result"
    }
   ],
   "source": [
    "# inconsistencies\n",
    "df.activity_level.value_counts()"
   ]
  },
  {
   "cell_type": "code",
   "execution_count": 39,
   "metadata": {},
   "outputs": [
    {
     "data": {
      "text/html": [
       "<div>\n",
       "<style scoped>\n",
       "    .dataframe tbody tr th:only-of-type {\n",
       "        vertical-align: middle;\n",
       "    }\n",
       "\n",
       "    .dataframe tbody tr th {\n",
       "        vertical-align: top;\n",
       "    }\n",
       "\n",
       "    .dataframe thead th {\n",
       "        text-align: right;\n",
       "    }\n",
       "</style>\n",
       "<table border=\"1\" class=\"dataframe\">\n",
       "  <thead>\n",
       "    <tr style=\"text-align: right;\">\n",
       "      <th></th>\n",
       "      <th>survey_id</th>\n",
       "      <th>age</th>\n",
       "      <th>number_of_children</th>\n",
       "      <th>activity_level</th>\n",
       "      <th>sleep_quality</th>\n",
       "      <th>number_of_snoozes</th>\n",
       "      <th>alarm_rating</th>\n",
       "    </tr>\n",
       "  </thead>\n",
       "  <tbody>\n",
       "  </tbody>\n",
       "</table>\n",
       "</div>"
      ],
      "text/plain": [
       "Empty DataFrame\n",
       "Columns: [survey_id, age, number_of_children, activity_level, sleep_quality, number_of_snoozes, alarm_rating]\n",
       "Index: []"
      ]
     },
     "execution_count": 39,
     "metadata": {},
     "output_type": "execute_result"
    }
   ],
   "source": [
    "# duplicates values\n",
    "df[df.duplicated()]"
   ]
  },
  {
   "cell_type": "code",
   "execution_count": 40,
   "metadata": {},
   "outputs": [
    {
     "data": {
      "text/html": [
       "<div>\n",
       "<style scoped>\n",
       "    .dataframe tbody tr th:only-of-type {\n",
       "        vertical-align: middle;\n",
       "    }\n",
       "\n",
       "    .dataframe tbody tr th {\n",
       "        vertical-align: top;\n",
       "    }\n",
       "\n",
       "    .dataframe thead th {\n",
       "        text-align: right;\n",
       "    }\n",
       "</style>\n",
       "<table border=\"1\" class=\"dataframe\">\n",
       "  <thead>\n",
       "    <tr style=\"text-align: right;\">\n",
       "      <th></th>\n",
       "      <th>survey_id</th>\n",
       "      <th>age</th>\n",
       "      <th>number_of_children</th>\n",
       "      <th>sleep_quality</th>\n",
       "      <th>number_of_snoozes</th>\n",
       "      <th>alarm_rating</th>\n",
       "    </tr>\n",
       "  </thead>\n",
       "  <tbody>\n",
       "    <tr>\n",
       "      <th>count</th>\n",
       "      <td>6365.000000</td>\n",
       "      <td>6365.000000</td>\n",
       "      <td>6365.000000</td>\n",
       "      <td>6365.000000</td>\n",
       "      <td>6365.000000</td>\n",
       "      <td>6365.000000</td>\n",
       "    </tr>\n",
       "    <tr>\n",
       "      <th>mean</th>\n",
       "      <td>3183.882325</td>\n",
       "      <td>29.076826</td>\n",
       "      <td>1.396936</td>\n",
       "      <td>4.107620</td>\n",
       "      <td>1.155067</td>\n",
       "      <td>2.955224</td>\n",
       "    </tr>\n",
       "    <tr>\n",
       "      <th>std</th>\n",
       "      <td>1837.741432</td>\n",
       "      <td>7.476376</td>\n",
       "      <td>1.433575</td>\n",
       "      <td>0.963612</td>\n",
       "      <td>1.587979</td>\n",
       "      <td>1.100414</td>\n",
       "    </tr>\n",
       "    <tr>\n",
       "      <th>min</th>\n",
       "      <td>1.000000</td>\n",
       "      <td>13.000000</td>\n",
       "      <td>0.000000</td>\n",
       "      <td>1.000000</td>\n",
       "      <td>0.000000</td>\n",
       "      <td>1.000000</td>\n",
       "    </tr>\n",
       "    <tr>\n",
       "      <th>25%</th>\n",
       "      <td>1593.000000</td>\n",
       "      <td>23.000000</td>\n",
       "      <td>0.000000</td>\n",
       "      <td>4.000000</td>\n",
       "      <td>0.000000</td>\n",
       "      <td>2.000000</td>\n",
       "    </tr>\n",
       "    <tr>\n",
       "      <th>50%</th>\n",
       "      <td>3184.000000</td>\n",
       "      <td>28.000000</td>\n",
       "      <td>1.000000</td>\n",
       "      <td>4.000000</td>\n",
       "      <td>0.000000</td>\n",
       "      <td>3.000000</td>\n",
       "    </tr>\n",
       "    <tr>\n",
       "      <th>75%</th>\n",
       "      <td>4775.000000</td>\n",
       "      <td>34.000000</td>\n",
       "      <td>2.000000</td>\n",
       "      <td>5.000000</td>\n",
       "      <td>2.000000</td>\n",
       "      <td>4.000000</td>\n",
       "    </tr>\n",
       "    <tr>\n",
       "      <th>max</th>\n",
       "      <td>6366.000000</td>\n",
       "      <td>47.000000</td>\n",
       "      <td>5.500000</td>\n",
       "      <td>5.000000</td>\n",
       "      <td>8.000000</td>\n",
       "      <td>5.000000</td>\n",
       "    </tr>\n",
       "  </tbody>\n",
       "</table>\n",
       "</div>"
      ],
      "text/plain": [
       "         survey_id          age  number_of_children  sleep_quality  \\\n",
       "count  6365.000000  6365.000000         6365.000000    6365.000000   \n",
       "mean   3183.882325    29.076826            1.396936       4.107620   \n",
       "std    1837.741432     7.476376            1.433575       0.963612   \n",
       "min       1.000000    13.000000            0.000000       1.000000   \n",
       "25%    1593.000000    23.000000            0.000000       4.000000   \n",
       "50%    3184.000000    28.000000            1.000000       4.000000   \n",
       "75%    4775.000000    34.000000            2.000000       5.000000   \n",
       "max    6366.000000    47.000000            5.500000       5.000000   \n",
       "\n",
       "       number_of_snoozes  alarm_rating  \n",
       "count        6365.000000   6365.000000  \n",
       "mean            1.155067      2.955224  \n",
       "std             1.587979      1.100414  \n",
       "min             0.000000      1.000000  \n",
       "25%             0.000000      2.000000  \n",
       "50%             0.000000      3.000000  \n",
       "75%             2.000000      4.000000  \n",
       "max             8.000000      5.000000  "
      ]
     },
     "execution_count": 40,
     "metadata": {},
     "output_type": "execute_result"
    }
   ],
   "source": [
    "#outliers\n",
    "df.describe()"
   ]
  },
  {
   "cell_type": "markdown",
   "metadata": {},
   "source": [
    "## 7. Create Columns From Numeric Data"
   ]
  },
  {
   "cell_type": "markdown",
   "metadata": {},
   "source": [
    "* Read data into Python\n",
    "* Check the data type of each column\n",
    "* Create a numeric column using arithmetic\n",
    "* Create a numeric column using conditional logic"
   ]
  },
  {
   "cell_type": "code",
   "execution_count": 5,
   "metadata": {},
   "outputs": [],
   "source": [
    "pens = pd.read_excel('../My_Datas/Data/Pen Sales Data.xlsx')"
   ]
  },
  {
   "cell_type": "code",
   "execution_count": 18,
   "metadata": {},
   "outputs": [
    {
     "data": {
      "text/html": [
       "<div>\n",
       "<style scoped>\n",
       "    .dataframe tbody tr th:only-of-type {\n",
       "        vertical-align: middle;\n",
       "    }\n",
       "\n",
       "    .dataframe tbody tr th {\n",
       "        vertical-align: top;\n",
       "    }\n",
       "\n",
       "    .dataframe thead th {\n",
       "        text-align: right;\n",
       "    }\n",
       "</style>\n",
       "<table border=\"1\" class=\"dataframe\">\n",
       "  <thead>\n",
       "    <tr style=\"text-align: right;\">\n",
       "      <th></th>\n",
       "      <th>Customer</th>\n",
       "      <th>Item</th>\n",
       "      <th>Pen Cost</th>\n",
       "      <th>Shipping Cost</th>\n",
       "      <th>Purchase Date</th>\n",
       "      <th>Delivery Date</th>\n",
       "      <th>Review</th>\n",
       "      <th>Total Spend</th>\n",
       "      <th>Free Shipping</th>\n",
       "    </tr>\n",
       "  </thead>\n",
       "  <tbody>\n",
       "    <tr>\n",
       "      <th>0</th>\n",
       "      <td>5201</td>\n",
       "      <td>Ballpoint Pens</td>\n",
       "      <td>5.99</td>\n",
       "      <td>2.99</td>\n",
       "      <td>2023-05-01</td>\n",
       "      <td>2023-05-03</td>\n",
       "      <td>DoodleWithMe|I love the way this pen writes, b...</td>\n",
       "      <td>8.98</td>\n",
       "      <td>No</td>\n",
       "    </tr>\n",
       "    <tr>\n",
       "      <th>1</th>\n",
       "      <td>5202</td>\n",
       "      <td>Sharpies</td>\n",
       "      <td>12.99</td>\n",
       "      <td>0.00</td>\n",
       "      <td>2023-05-01</td>\n",
       "      <td>2023-05-04</td>\n",
       "      <td>ScribbleMaster|The classic Sharpie marker has ...</td>\n",
       "      <td>12.99</td>\n",
       "      <td>Yes</td>\n",
       "    </tr>\n",
       "    <tr>\n",
       "      <th>2</th>\n",
       "      <td>5203</td>\n",
       "      <td>Ballpoint Pens (Bold)</td>\n",
       "      <td>6.95</td>\n",
       "      <td>4.99</td>\n",
       "      <td>2023-05-01</td>\n",
       "      <td>2023-05-02</td>\n",
       "      <td>PenPalForever|The retractable ballpoint pen ha...</td>\n",
       "      <td>11.94</td>\n",
       "      <td>No</td>\n",
       "    </tr>\n",
       "    <tr>\n",
       "      <th>3</th>\n",
       "      <td>5204</td>\n",
       "      <td>Gel Pens</td>\n",
       "      <td>5.99</td>\n",
       "      <td>2.99</td>\n",
       "      <td>2023-05-01</td>\n",
       "      <td>2023-05-04</td>\n",
       "      <td>TheWriteWay|This gel pen has a comfortable gri...</td>\n",
       "      <td>8.98</td>\n",
       "      <td>No</td>\n",
       "    </tr>\n",
       "    <tr>\n",
       "      <th>4</th>\n",
       "      <td>5205</td>\n",
       "      <td>Rollerball Pens</td>\n",
       "      <td>12.99</td>\n",
       "      <td>1.99</td>\n",
       "      <td>2023-05-01</td>\n",
       "      <td>2023-05-03</td>\n",
       "      <td>PenAndPaperPerson|The rollerball pen has a smo...</td>\n",
       "      <td>14.98</td>\n",
       "      <td>No</td>\n",
       "    </tr>\n",
       "  </tbody>\n",
       "</table>\n",
       "</div>"
      ],
      "text/plain": [
       "   Customer                   Item  Pen Cost  Shipping Cost Purchase Date  \\\n",
       "0      5201         Ballpoint Pens      5.99           2.99    2023-05-01   \n",
       "1      5202               Sharpies     12.99           0.00    2023-05-01   \n",
       "2      5203  Ballpoint Pens (Bold)      6.95           4.99    2023-05-01   \n",
       "3      5204               Gel Pens      5.99           2.99    2023-05-01   \n",
       "4      5205        Rollerball Pens     12.99           1.99    2023-05-01   \n",
       "\n",
       "  Delivery Date                                             Review  \\\n",
       "0    2023-05-03  DoodleWithMe|I love the way this pen writes, b...   \n",
       "1    2023-05-04  ScribbleMaster|The classic Sharpie marker has ...   \n",
       "2    2023-05-02  PenPalForever|The retractable ballpoint pen ha...   \n",
       "3    2023-05-04  TheWriteWay|This gel pen has a comfortable gri...   \n",
       "4    2023-05-03  PenAndPaperPerson|The rollerball pen has a smo...   \n",
       "\n",
       "   Total Spend Free Shipping  \n",
       "0         8.98            No  \n",
       "1        12.99           Yes  \n",
       "2        11.94            No  \n",
       "3         8.98            No  \n",
       "4        14.98            No  "
      ]
     },
     "execution_count": 18,
     "metadata": {},
     "output_type": "execute_result"
    }
   ],
   "source": [
    "pens.head()"
   ]
  },
  {
   "cell_type": "code",
   "execution_count": 16,
   "metadata": {},
   "outputs": [],
   "source": [
    "# Create a “Total Spend” column that includes both the pen cost and shipping cost for each sale\n",
    "pens['Total Spend'] = pens['Pen Cost'] + pens['Shipping Cost']"
   ]
  },
  {
   "cell_type": "code",
   "execution_count": 17,
   "metadata": {},
   "outputs": [],
   "source": [
    "# Create a “Free Shipping” column that says yes if the sale included free shipping, and no otherwise\n",
    "pens[\"Free Shipping\"] = np.where(pens['Shipping Cost'] == 0, 'Yes', 'No')"
   ]
  },
  {
   "cell_type": "code",
   "execution_count": null,
   "metadata": {},
   "outputs": [],
   "source": []
  },
  {
   "cell_type": "code",
   "execution_count": null,
   "metadata": {},
   "outputs": [],
   "source": []
  },
  {
   "cell_type": "code",
   "execution_count": null,
   "metadata": {},
   "outputs": [],
   "source": []
  },
  {
   "cell_type": "markdown",
   "metadata": {
    "jp-MarkdownHeadingCollapsed": true
   },
   "source": [
    "## 8. Create Columns From DateTime Data"
   ]
  },
  {
   "cell_type": "markdown",
   "metadata": {},
   "source": [
    "* Calculate the difference between two datetime columns and save it as a new column\n",
    "* Take the average of a column"
   ]
  },
  {
   "cell_type": "code",
   "execution_count": null,
   "metadata": {},
   "outputs": [],
   "source": [
    "# Calculate the number of days between the purchase and delivery date for each sale\n",
    "# Save it as a new column called “Delivery Time”\n",
    "# What were the average days from purchase to delivery?"
   ]
  },
  {
   "cell_type": "code",
   "execution_count": null,
   "metadata": {},
   "outputs": [],
   "source": []
  },
  {
   "cell_type": "code",
   "execution_count": null,
   "metadata": {},
   "outputs": [],
   "source": []
  },
  {
   "cell_type": "markdown",
   "metadata": {
    "jp-MarkdownHeadingCollapsed": true
   },
   "source": [
    "## 9. Create Columns From Text Data"
   ]
  },
  {
   "cell_type": "markdown",
   "metadata": {},
   "source": [
    "* Split one column into multiple columns\n",
    "* Create a Boolean column (True / False) to show whether a text field contains particular words"
   ]
  },
  {
   "cell_type": "code",
   "execution_count": null,
   "metadata": {},
   "outputs": [],
   "source": [
    "# Split the reviews on the “|” character to create two new columns: “User Name” and “Review Text”\n",
    "# Create a “Leak or Spill” column that flags the reviews that mention either “leak” or “spill”"
   ]
  },
  {
   "cell_type": "code",
   "execution_count": null,
   "metadata": {},
   "outputs": [],
   "source": []
  },
  {
   "cell_type": "code",
   "execution_count": null,
   "metadata": {},
   "outputs": [],
   "source": []
  }
 ],
 "metadata": {
  "kernelspec": {
   "display_name": "Python 3 (ipykernel)",
   "language": "python",
   "name": "python3"
  },
  "language_info": {
   "codemirror_mode": {
    "name": "ipython",
    "version": 3
   },
   "file_extension": ".py",
   "mimetype": "text/x-python",
   "name": "python",
   "nbconvert_exporter": "python",
   "pygments_lexer": "ipython3",
   "version": "3.11.1"
  }
 },
 "nbformat": 4,
 "nbformat_minor": 4
}
