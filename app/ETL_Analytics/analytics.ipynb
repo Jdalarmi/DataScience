{
 "cells": [
  {
   "cell_type": "code",
   "execution_count": 3,
   "id": "63182066-a4e0-40c6-83cc-895dacfd1234",
   "metadata": {},
   "outputs": [],
   "source": [
    "import pandas as pd\n"
   ]
  },
  {
   "cell_type": "code",
   "execution_count": 4,
   "id": "47dde289-dfb3-4cb7-9bcf-d54866dd5b2e",
   "metadata": {},
   "outputs": [],
   "source": [
    "df = pd.read_csv('../Explore_Data/Data/dados.csv')"
   ]
  },
  {
   "cell_type": "code",
   "execution_count": 5,
   "id": "fa022d90-9401-41da-bdd6-1384a9c5bc17",
   "metadata": {},
   "outputs": [],
   "source": [
    "df = df.drop([168, 169])\n"
   ]
  },
  {
   "cell_type": "code",
   "execution_count": 6,
   "id": "6aa42ddd-fc58-4cbd-8f55-0eaca8516b2c",
   "metadata": {},
   "outputs": [],
   "source": [
    "df['fim'] = pd.to_datetime(df['data_fechamento'], format='%Y-%m-%dT%H:%M:%S.%f', errors='coerce')"
   ]
  },
  {
   "cell_type": "code",
   "execution_count": 7,
   "id": "efb592db-c447-4e4e-a674-18244c2353db",
   "metadata": {},
   "outputs": [],
   "source": [
    "df['inicio'] = pd.to_datetime(df['data_pedido'], format='%Y-%m-%dT%H:%M:%S.%f', errors='coerce')"
   ]
  },
  {
   "cell_type": "code",
   "execution_count": 8,
   "id": "7bde15e3-02b3-4853-be24-877ccf66f552",
   "metadata": {},
   "outputs": [],
   "source": [
    "df = df.dropna(subset=['inicio', 'fim'])"
   ]
  },
  {
   "cell_type": "code",
   "execution_count": 9,
   "id": "f3bcdc45-70a4-47a1-bdc8-d687234c8523",
   "metadata": {},
   "outputs": [
    {
     "data": {
      "text/html": [
       "<div>\n",
       "<style scoped>\n",
       "    .dataframe tbody tr th:only-of-type {\n",
       "        vertical-align: middle;\n",
       "    }\n",
       "\n",
       "    .dataframe tbody tr th {\n",
       "        vertical-align: top;\n",
       "    }\n",
       "\n",
       "    .dataframe thead th {\n",
       "        text-align: right;\n",
       "    }\n",
       "</style>\n",
       "<table border=\"1\" class=\"dataframe\">\n",
       "  <thead>\n",
       "    <tr style=\"text-align: right;\">\n",
       "      <th></th>\n",
       "      <th>data_pedido</th>\n",
       "      <th>status</th>\n",
       "      <th>data_fechamento</th>\n",
       "      <th>fim</th>\n",
       "      <th>inicio</th>\n",
       "    </tr>\n",
       "  </thead>\n",
       "  <tbody>\n",
       "    <tr>\n",
       "      <th>0</th>\n",
       "      <td>2024-03-14T13:40:11.543</td>\n",
       "      <td>FINALIZADO</td>\n",
       "      <td>2024-03-14T13:51:48.13</td>\n",
       "      <td>2024-03-14 13:51:48.130</td>\n",
       "      <td>2024-03-14 13:40:11.543</td>\n",
       "    </tr>\n",
       "    <tr>\n",
       "      <th>1</th>\n",
       "      <td>2024-03-14T13:40:10.167</td>\n",
       "      <td>FINALIZADO</td>\n",
       "      <td>2024-03-14T13:50:06.55</td>\n",
       "      <td>2024-03-14 13:50:06.550</td>\n",
       "      <td>2024-03-14 13:40:10.167</td>\n",
       "    </tr>\n",
       "    <tr>\n",
       "      <th>2</th>\n",
       "      <td>2024-03-14T13:40:08.85</td>\n",
       "      <td>FINALIZADO</td>\n",
       "      <td>2024-03-14T13:51:20.637</td>\n",
       "      <td>2024-03-14 13:51:20.637</td>\n",
       "      <td>2024-03-14 13:40:08.850</td>\n",
       "    </tr>\n",
       "    <tr>\n",
       "      <th>3</th>\n",
       "      <td>2024-03-14T11:18:37.76</td>\n",
       "      <td>FINALIZADO</td>\n",
       "      <td>2024-03-14T12:07:53.027</td>\n",
       "      <td>2024-03-14 12:07:53.027</td>\n",
       "      <td>2024-03-14 11:18:37.760</td>\n",
       "    </tr>\n",
       "    <tr>\n",
       "      <th>4</th>\n",
       "      <td>2024-03-14T11:15:11.33</td>\n",
       "      <td>FINALIZADO</td>\n",
       "      <td>2024-03-14T12:07:19.933</td>\n",
       "      <td>2024-03-14 12:07:19.933</td>\n",
       "      <td>2024-03-14 11:15:11.330</td>\n",
       "    </tr>\n",
       "    <tr>\n",
       "      <th>...</th>\n",
       "      <td>...</td>\n",
       "      <td>...</td>\n",
       "      <td>...</td>\n",
       "      <td>...</td>\n",
       "      <td>...</td>\n",
       "    </tr>\n",
       "    <tr>\n",
       "      <th>163</th>\n",
       "      <td>2024-03-14T06:39:20.457</td>\n",
       "      <td>FINALIZADO</td>\n",
       "      <td>2024-03-14T08:46:18.033</td>\n",
       "      <td>2024-03-14 08:46:18.033</td>\n",
       "      <td>2024-03-14 06:39:20.457</td>\n",
       "    </tr>\n",
       "    <tr>\n",
       "      <th>164</th>\n",
       "      <td>2024-03-14T06:39:19.19</td>\n",
       "      <td>FINALIZADO</td>\n",
       "      <td>2024-03-14T08:45:25.997</td>\n",
       "      <td>2024-03-14 08:45:25.997</td>\n",
       "      <td>2024-03-14 06:39:19.190</td>\n",
       "    </tr>\n",
       "    <tr>\n",
       "      <th>165</th>\n",
       "      <td>2024-03-14T06:39:17.93</td>\n",
       "      <td>FINALIZADO</td>\n",
       "      <td>2024-03-14T08:45:52.597</td>\n",
       "      <td>2024-03-14 08:45:52.597</td>\n",
       "      <td>2024-03-14 06:39:17.930</td>\n",
       "    </tr>\n",
       "    <tr>\n",
       "      <th>166</th>\n",
       "      <td>2024-03-14T06:36:50.51</td>\n",
       "      <td>FINALIZADO</td>\n",
       "      <td>2024-03-14T08:09:54.467</td>\n",
       "      <td>2024-03-14 08:09:54.467</td>\n",
       "      <td>2024-03-14 06:36:50.510</td>\n",
       "    </tr>\n",
       "    <tr>\n",
       "      <th>167</th>\n",
       "      <td>2024-03-14T06:31:18.507</td>\n",
       "      <td>FINALIZADO</td>\n",
       "      <td>2024-03-14T08:11:30.917</td>\n",
       "      <td>2024-03-14 08:11:30.917</td>\n",
       "      <td>2024-03-14 06:31:18.507</td>\n",
       "    </tr>\n",
       "  </tbody>\n",
       "</table>\n",
       "<p>166 rows × 5 columns</p>\n",
       "</div>"
      ],
      "text/plain": [
       "                 data_pedido      status          data_fechamento  \\\n",
       "0    2024-03-14T13:40:11.543  FINALIZADO   2024-03-14T13:51:48.13   \n",
       "1    2024-03-14T13:40:10.167  FINALIZADO   2024-03-14T13:50:06.55   \n",
       "2     2024-03-14T13:40:08.85  FINALIZADO  2024-03-14T13:51:20.637   \n",
       "3     2024-03-14T11:18:37.76  FINALIZADO  2024-03-14T12:07:53.027   \n",
       "4     2024-03-14T11:15:11.33  FINALIZADO  2024-03-14T12:07:19.933   \n",
       "..                       ...         ...                      ...   \n",
       "163  2024-03-14T06:39:20.457  FINALIZADO  2024-03-14T08:46:18.033   \n",
       "164   2024-03-14T06:39:19.19  FINALIZADO  2024-03-14T08:45:25.997   \n",
       "165   2024-03-14T06:39:17.93  FINALIZADO  2024-03-14T08:45:52.597   \n",
       "166   2024-03-14T06:36:50.51  FINALIZADO  2024-03-14T08:09:54.467   \n",
       "167  2024-03-14T06:31:18.507  FINALIZADO  2024-03-14T08:11:30.917   \n",
       "\n",
       "                        fim                  inicio  \n",
       "0   2024-03-14 13:51:48.130 2024-03-14 13:40:11.543  \n",
       "1   2024-03-14 13:50:06.550 2024-03-14 13:40:10.167  \n",
       "2   2024-03-14 13:51:20.637 2024-03-14 13:40:08.850  \n",
       "3   2024-03-14 12:07:53.027 2024-03-14 11:18:37.760  \n",
       "4   2024-03-14 12:07:19.933 2024-03-14 11:15:11.330  \n",
       "..                      ...                     ...  \n",
       "163 2024-03-14 08:46:18.033 2024-03-14 06:39:20.457  \n",
       "164 2024-03-14 08:45:25.997 2024-03-14 06:39:19.190  \n",
       "165 2024-03-14 08:45:52.597 2024-03-14 06:39:17.930  \n",
       "166 2024-03-14 08:09:54.467 2024-03-14 06:36:50.510  \n",
       "167 2024-03-14 08:11:30.917 2024-03-14 06:31:18.507  \n",
       "\n",
       "[166 rows x 5 columns]"
      ]
     },
     "execution_count": 9,
     "metadata": {},
     "output_type": "execute_result"
    }
   ],
   "source": [
    "df\n"
   ]
  },
  {
   "cell_type": "code",
   "execution_count": 10,
   "id": "a9d6711f-b038-4ca4-a55a-7515582856bc",
   "metadata": {},
   "outputs": [],
   "source": [
    "df['temp'] = df['fim'] - df['inicio']"
   ]
  },
  {
   "cell_type": "code",
   "execution_count": 11,
   "id": "6575f5fe-472a-4f95-99a0-cf733adf8607",
   "metadata": {},
   "outputs": [
    {
     "data": {
      "text/plain": [
       "0     0 days 00:11:36.587000\n",
       "1     0 days 00:09:56.383000\n",
       "2     0 days 00:11:11.787000\n",
       "3     0 days 00:49:15.267000\n",
       "4     0 days 00:52:08.603000\n",
       "               ...          \n",
       "163   0 days 02:06:57.576000\n",
       "164   0 days 02:06:06.807000\n",
       "165   0 days 02:06:34.667000\n",
       "166   0 days 01:33:03.957000\n",
       "167   0 days 01:40:12.410000\n",
       "Name: temp, Length: 166, dtype: timedelta64[ns]"
      ]
     },
     "execution_count": 11,
     "metadata": {},
     "output_type": "execute_result"
    }
   ],
   "source": [
    "df['temp']"
   ]
  },
  {
   "cell_type": "code",
   "execution_count": 45,
   "id": "8d13543b-7273-41f4-a3a9-578ebdd4918f",
   "metadata": {},
   "outputs": [],
   "source": [
    "media = df['temp'].mean()"
   ]
  },
  {
   "cell_type": "code",
   "execution_count": 46,
   "id": "3bbf0610-ff01-477c-84c4-34530ef76621",
   "metadata": {},
   "outputs": [
    {
     "data": {
      "text/plain": [
       "Timedelta('0 days 02:12:59.897728915')"
      ]
     },
     "execution_count": 46,
     "metadata": {},
     "output_type": "execute_result"
    }
   ],
   "source": [
    "media"
   ]
  },
  {
   "cell_type": "code",
   "execution_count": 47,
   "id": "fa2c34db-d9a5-4797-a955-ba59c4e1f8c6",
   "metadata": {},
   "outputs": [],
   "source": [
    "total_pedidos = len(df)"
   ]
  },
  {
   "cell_type": "code",
   "execution_count": 48,
   "id": "fda54986-558e-4739-9f86-629724762494",
   "metadata": {},
   "outputs": [
    {
     "data": {
      "text/plain": [
       "166"
      ]
     },
     "execution_count": 48,
     "metadata": {},
     "output_type": "execute_result"
    }
   ],
   "source": [
    "total_pedidos"
   ]
  },
  {
   "cell_type": "code",
   "execution_count": 50,
   "id": "4ec8a130-a44a-4dca-907a-2ebed037060b",
   "metadata": {},
   "outputs": [],
   "source": [
    "media_por_pedido = media / total_pedidos"
   ]
  },
  {
   "cell_type": "code",
   "execution_count": 51,
   "id": "b391f707-7864-414e-a3e6-57df00c37b93",
   "metadata": {},
   "outputs": [
    {
     "data": {
      "text/plain": [
       "Timedelta('0 days 00:00:48.071673065')"
      ]
     },
     "execution_count": 51,
     "metadata": {},
     "output_type": "execute_result"
    }
   ],
   "source": [
    "media_por_pedido"
   ]
  },
  {
   "cell_type": "code",
   "execution_count": 52,
   "id": "ceaeae5a-8c00-415a-a673-dce1f621007b",
   "metadata": {},
   "outputs": [],
   "source": [
    "media_por_pedido_segundos = media_por_pedido.total_seconds()\n",
    "horas_media = media_por_pedido_segundos // 3600\n",
    "minutos_media = (media_por_pedido_segundos % 3600) // 60\n",
    "segundos_media = media_por_pedido_segundos % 60"
   ]
  },
  {
   "cell_type": "code",
   "execution_count": 53,
   "id": "4a0141a3-4739-422f-8f97-ff7b0774028b",
   "metadata": {},
   "outputs": [
    {
     "data": {
      "text/plain": [
       "48.071673"
      ]
     },
     "execution_count": 53,
     "metadata": {},
     "output_type": "execute_result"
    }
   ],
   "source": [
    "media_por_pedido_segundos"
   ]
  }
 ],
 "metadata": {
  "kernelspec": {
   "display_name": "Python 3 (ipykernel)",
   "language": "python",
   "name": "python3"
  },
  "language_info": {
   "codemirror_mode": {
    "name": "ipython",
    "version": 3
   },
   "file_extension": ".py",
   "mimetype": "text/x-python",
   "name": "python",
   "nbconvert_exporter": "python",
   "pygments_lexer": "ipython3",
   "version": "3.11.1"
  }
 },
 "nbformat": 4,
 "nbformat_minor": 5
}
