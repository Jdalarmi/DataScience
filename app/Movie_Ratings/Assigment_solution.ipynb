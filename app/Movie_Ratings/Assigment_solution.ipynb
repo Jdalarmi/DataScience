{
 "cells": [
  {
   "cell_type": "code",
   "execution_count": null,
   "metadata": {},
   "outputs": [],
   "source": [
    "# Solve Problems"
   ]
  },
  {
   "cell_type": "markdown",
   "id": "abb8e1c9",
   "metadata": {},
   "source": []
  },
  {
   "cell_type": "markdown",
   "id": "232c0089",
   "metadata": {},
   "source": []
  }
 ],
 "metadata": {
  "language_info": {
   "name": "python"
  }
 },
 "nbformat": 4,
 "nbformat_minor": 5
}
