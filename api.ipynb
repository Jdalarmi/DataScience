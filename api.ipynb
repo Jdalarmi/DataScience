{
 "cells": [
  {
   "cell_type": "code",
   "execution_count": 12,
   "id": "1c2c4826-ce75-4d35-ba1c-06e1ae8b9d4e",
   "metadata": {},
   "outputs": [],
   "source": [
    "import pandas as pd"
   ]
  },
  {
   "cell_type": "code",
   "execution_count": 13,
   "id": "69543a84-f6d4-4b8e-bb78-8c7b826a0f6b",
   "metadata": {},
   "outputs": [
    {
     "name": "stdout",
     "output_type": "stream",
     "text": [
      "Requirement already satisfied: requests in c:\\users\\fezeg\\documents\\github\\datascience\\venv\\lib\\site-packages (2.31.0)Note: you may need to restart the kernel to use updated packages.\n"
     ]
    },
    {
     "name": "stderr",
     "output_type": "stream",
     "text": [
      "\n",
      "[notice] A new release of pip available: 22.3.1 -> 24.0\n",
      "[notice] To update, run: python.exe -m pip install --upgrade pip\n"
     ]
    },
    {
     "name": "stdout",
     "output_type": "stream",
     "text": [
      "\n",
      "Requirement already satisfied: charset-normalizer<4,>=2 in c:\\users\\fezeg\\documents\\github\\datascience\\venv\\lib\\site-packages (from requests) (3.3.2)\n",
      "Requirement already satisfied: idna<4,>=2.5 in c:\\users\\fezeg\\documents\\github\\datascience\\venv\\lib\\site-packages (from requests) (3.6)\n",
      "Requirement already satisfied: urllib3<3,>=1.21.1 in c:\\users\\fezeg\\documents\\github\\datascience\\venv\\lib\\site-packages (from requests) (2.2.1)\n",
      "Requirement already satisfied: certifi>=2017.4.17 in c:\\users\\fezeg\\documents\\github\\datascience\\venv\\lib\\site-packages (from requests) (2024.2.2)\n"
     ]
    }
   ],
   "source": [
    "pip install requests"
   ]
  },
  {
   "cell_type": "code",
   "execution_count": 14,
   "id": "e24e0806-3422-4f2b-ab96-213ab1963fa8",
   "metadata": {},
   "outputs": [],
   "source": [
    "import requests"
   ]
  },
  {
   "cell_type": "code",
   "execution_count": 5,
   "id": "1d5a7524-e25a-4588-ac03-f2dd90730d3f",
   "metadata": {},
   "outputs": [],
   "source": [
    "URL = \"https://apigateway.smartgo.com.br/expedicao\"\n",
    "QUERY_STRING = {\"Page\":\"1\",\"PageSize\":\"1000000\"}\n",
    "HEADERS = {\n",
    "        \"User-Agent\": \"insomnia/8.6.0\",\n",
    "        \"api_key\": \"1EFNugwqw/LKBidC+Ed2SZufWjFXNP6kZZ2CanULK22r00x4vV90c4gV2VXZ1yEbyTYEqqjegfGNt8CsDV9ViAqaY07Y8BCq0dPXAeLZPf4=\"\n",
    "    }"
   ]
  },
  {
   "cell_type": "code",
   "execution_count": 15,
   "id": "5826d0e9-65ad-42fb-95af-dad3c8ea019c",
   "metadata": {},
   "outputs": [],
   "source": [
    "response = requests.request(\"GET\", URL, headers=HEADERS, params=QUERY_STRING)\n",
    "if response.status_code == 200:\n",
    "    resposta_json = response.json()\n",
    "\n",
    "    dados = resposta_json['model']['items']"
   ]
  },
  {
   "cell_type": "code",
   "execution_count": 18,
   "id": "4adc0376-847d-446a-9b8e-016925846902",
   "metadata": {},
   "outputs": [],
   "source": [
    "from datetime import datetime"
   ]
  },
  {
   "cell_type": "code",
   "execution_count": 21,
   "id": "4511373b-1d20-4e1a-baa2-1b47e2ba94d9",
   "metadata": {},
   "outputs": [],
   "source": [
    "today = datetime.now().date()"
   ]
  },
  {
   "cell_type": "code",
   "execution_count": 33,
   "id": "23766f24-7932-425e-8a16-fc68aeaecb19",
   "metadata": {},
   "outputs": [],
   "source": [
    "dados_hoje = [dado for dado in dados if datetime.fromisoformat(dado[\"dataDoPedido\"]).date() == today]"
   ]
  },
  {
   "cell_type": "code",
   "execution_count": 36,
   "id": "4da04cd3-b814-40c6-9a80-516c2c73a962",
   "metadata": {},
   "outputs": [],
   "source": [
    "finish = [pedido for pedido in dados_hoje if pedido[\"status\"] == \"FINALIZADO\"]\n",
    "    "
   ]
  },
  {
   "cell_type": "code",
   "execution_count": 131,
   "id": "506f1425-4b93-47f7-aae9-dab727afa766",
   "metadata": {},
   "outputs": [],
   "source": [
    "df = pd.DataFrame(finish)"
   ]
  },
  {
   "cell_type": "code",
   "execution_count": null,
   "id": "20c6757f-e010-472f-adb1-e6db50f99d72",
   "metadata": {},
   "outputs": [],
   "source": []
  }
 ],
 "metadata": {
  "kernelspec": {
   "display_name": "Python 3 (ipykernel)",
   "language": "python",
   "name": "python3"
  },
  "language_info": {
   "codemirror_mode": {
    "name": "ipython",
    "version": 3
   },
   "file_extension": ".py",
   "mimetype": "text/x-python",
   "name": "python",
   "nbconvert_exporter": "python",
   "pygments_lexer": "ipython3",
   "version": "3.11.1"
  }
 },
 "nbformat": 4,
 "nbformat_minor": 5
}
