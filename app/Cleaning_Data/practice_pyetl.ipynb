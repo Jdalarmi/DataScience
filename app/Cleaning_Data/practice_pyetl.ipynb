{
 "cells": [
  {
   "cell_type": "code",
   "execution_count": 1,
   "id": "8793fa2a-fc18-4652-acf6-a49ec956793b",
   "metadata": {},
   "outputs": [],
   "source": [
    "import pandas as pd\n",
    "import numpy as np\n",
    "import seaborn as sns"
   ]
  },
  {
   "cell_type": "markdown",
   "id": "5ab927f5-37d7-41db-a273-54f7dd4d98a1",
   "metadata": {
    "heading_collapsed": true,
    "jp-MarkdownHeadingCollapsed": true
   },
   "source": [
    "## Explore data\n"
   ]
  },
  {
   "cell_type": "code",
   "execution_count": 19,
   "id": "f8e36720-7ecb-4da1-a8b9-e7dbe256c104",
   "metadata": {
    "hidden": true
   },
   "outputs": [],
   "source": [
    "df = pd.read_excel('../My_Datas/Data/Student Grades.xlsx')"
   ]
  },
  {
   "cell_type": "code",
   "execution_count": 69,
   "id": "daefffa6-7bad-4c52-abc0-97e72f264ff3",
   "metadata": {
    "hidden": true
   },
   "outputs": [
    {
     "ename": "AttributeError",
     "evalue": "'DataFrame' object has no attribute 'Grade'",
     "output_type": "error",
     "traceback": [
      "\u001b[1;31m---------------------------------------------------------------------------\u001b[0m",
      "\u001b[1;31mAttributeError\u001b[0m                            Traceback (most recent call last)",
      "\u001b[1;32m~\\AppData\\Local\\Temp\\ipykernel_16884\\2204210962.py\u001b[0m in \u001b[0;36m?\u001b[1;34m()\u001b[0m\n\u001b[1;32m----> 1\u001b[1;33m \u001b[0mdf\u001b[0m\u001b[1;33m[\u001b[0m\u001b[0mdf\u001b[0m\u001b[1;33m.\u001b[0m\u001b[0mGrade\u001b[0m \u001b[1;33m>\u001b[0m \u001b[1;36m100\u001b[0m\u001b[1;33m]\u001b[0m\u001b[1;33m\u001b[0m\u001b[1;33m\u001b[0m\u001b[0m\n\u001b[0m",
      "\u001b[1;32m~\\Documents\\GitHub\\DataScience\\venv\\Lib\\site-packages\\pandas\\core\\generic.py\u001b[0m in \u001b[0;36m?\u001b[1;34m(self, name)\u001b[0m\n\u001b[0;32m   6292\u001b[0m             \u001b[1;32mand\u001b[0m \u001b[0mname\u001b[0m \u001b[1;32mnot\u001b[0m \u001b[1;32min\u001b[0m \u001b[0mself\u001b[0m\u001b[1;33m.\u001b[0m\u001b[0m_accessors\u001b[0m\u001b[1;33m\u001b[0m\u001b[1;33m\u001b[0m\u001b[0m\n\u001b[0;32m   6293\u001b[0m             \u001b[1;32mand\u001b[0m \u001b[0mself\u001b[0m\u001b[1;33m.\u001b[0m\u001b[0m_info_axis\u001b[0m\u001b[1;33m.\u001b[0m\u001b[0m_can_hold_identifiers_and_holds_name\u001b[0m\u001b[1;33m(\u001b[0m\u001b[0mname\u001b[0m\u001b[1;33m)\u001b[0m\u001b[1;33m\u001b[0m\u001b[1;33m\u001b[0m\u001b[0m\n\u001b[0;32m   6294\u001b[0m         ):\n\u001b[0;32m   6295\u001b[0m             \u001b[1;32mreturn\u001b[0m \u001b[0mself\u001b[0m\u001b[1;33m[\u001b[0m\u001b[0mname\u001b[0m\u001b[1;33m]\u001b[0m\u001b[1;33m\u001b[0m\u001b[1;33m\u001b[0m\u001b[0m\n\u001b[1;32m-> 6296\u001b[1;33m         \u001b[1;32mreturn\u001b[0m \u001b[0mobject\u001b[0m\u001b[1;33m.\u001b[0m\u001b[0m__getattribute__\u001b[0m\u001b[1;33m(\u001b[0m\u001b[0mself\u001b[0m\u001b[1;33m,\u001b[0m \u001b[0mname\u001b[0m\u001b[1;33m)\u001b[0m\u001b[1;33m\u001b[0m\u001b[1;33m\u001b[0m\u001b[0m\n\u001b[0m",
      "\u001b[1;31mAttributeError\u001b[0m: 'DataFrame' object has no attribute 'Grade'"
     ]
    }
   ],
   "source": [
    "df[df.Grade > 100]"
   ]
  },
  {
   "cell_type": "code",
   "execution_count": 21,
   "id": "eecb1f93-024e-4e3b-964a-755e7cebc4aa",
   "metadata": {
    "hidden": true
   },
   "outputs": [
    {
     "data": {
      "text/plain": [
       "Class\n",
       "Intro to Python              25\n",
       "Intro to SQL                 20\n",
       "EDA                          13\n",
       "Freshman Seminar             12\n",
       "Exploratory Data Analysis    12\n",
       "Python                        1\n",
       "Name: count, dtype: int64"
      ]
     },
     "execution_count": 21,
     "metadata": {},
     "output_type": "execute_result"
    }
   ],
   "source": [
    "df.Class.value_counts()"
   ]
  },
  {
   "cell_type": "code",
   "execution_count": 22,
   "id": "c1118b2c-a29f-46e3-b647-7c56e459197c",
   "metadata": {
    "hidden": true
   },
   "outputs": [
    {
     "data": {
      "text/plain": [
       "0              Freshman Seminar\n",
       "1              Freshman Seminar\n",
       "2              Freshman Seminar\n",
       "3              Freshman Seminar\n",
       "4              Freshman Seminar\n",
       "                ...            \n",
       "81                          NaN\n",
       "82                          NaN\n",
       "83    Exploratory Data Analysis\n",
       "84    Exploratory Data Analysis\n",
       "85                          NaN\n",
       "Name: Class, Length: 86, dtype: object"
      ]
     },
     "execution_count": 22,
     "metadata": {},
     "output_type": "execute_result"
    }
   ],
   "source": [
    "df.Class = np.where(df.Class == 'EDA', 'Exploratory Data Analysis', df.Class)\n",
    "df.Class"
   ]
  },
  {
   "cell_type": "code",
   "execution_count": 23,
   "id": "c416d40d-b80e-4ab7-bdc1-9fee49a5111b",
   "metadata": {
    "hidden": true
   },
   "outputs": [
    {
     "data": {
      "text/plain": [
       "0              Freshman Seminar\n",
       "1              Freshman Seminar\n",
       "2              Freshman Seminar\n",
       "3              Freshman Seminar\n",
       "4              Freshman Seminar\n",
       "                ...            \n",
       "81                          NaN\n",
       "82                          NaN\n",
       "83    Exploratory Data Analysis\n",
       "84    Exploratory Data Analysis\n",
       "85                          NaN\n",
       "Name: Class, Length: 86, dtype: object"
      ]
     },
     "execution_count": 23,
     "metadata": {},
     "output_type": "execute_result"
    }
   ],
   "source": [
    "df.Class = np.where(df.Class == 'Python', 'Intro to Python', df.Class)\n",
    "df.Class"
   ]
  },
  {
   "cell_type": "code",
   "execution_count": 7,
   "id": "dc9dafb9-32ab-4f56-b29e-0380fa9fd045",
   "metadata": {
    "hidden": true
   },
   "outputs": [
    {
     "data": {
      "text/plain": [
       "0      86.0\n",
       "1      86.0\n",
       "2      86.0\n",
       "3      87.0\n",
       "4      90.0\n",
       "      ...  \n",
       "81      NaN\n",
       "82      NaN\n",
       "83     84.0\n",
       "84      NaN\n",
       "85    100.0\n",
       "Name: Grade, Length: 86, dtype: float64"
      ]
     },
     "execution_count": 7,
     "metadata": {},
     "output_type": "execute_result"
    }
   ],
   "source": [
    "df.Grade = np.where(df.Grade > 100, 100, df.Grade)\n",
    "df.Grade"
   ]
  },
  {
   "cell_type": "code",
   "execution_count": 8,
   "id": "99a27c6a-c55c-4988-bb5e-b13afb346cc6",
   "metadata": {
    "hidden": true
   },
   "outputs": [
    {
     "data": {
      "text/plain": [
       "count     82.000000\n",
       "mean      84.487805\n",
       "std        8.991414\n",
       "min       45.000000\n",
       "25%       81.000000\n",
       "50%       85.000000\n",
       "75%       90.000000\n",
       "max      100.000000\n",
       "Name: Grade, dtype: float64"
      ]
     },
     "execution_count": 8,
     "metadata": {},
     "output_type": "execute_result"
    }
   ],
   "source": [
    "df.Grade.describe()"
   ]
  },
  {
   "cell_type": "code",
   "execution_count": 53,
   "id": "1d5376bd-3acc-4134-a5cc-b1f94620191c",
   "metadata": {
    "hidden": true
   },
   "outputs": [],
   "source": [
    "df_grades = pd.read_excel('../My_Datas/Data/Student Grades.xlsx')"
   ]
  },
  {
   "cell_type": "code",
   "execution_count": 54,
   "id": "588f74a3-adb8-4559-973d-3d54cdd88fdf",
   "metadata": {
    "hidden": true
   },
   "outputs": [
    {
     "data": {
      "text/html": [
       "<div>\n",
       "<style scoped>\n",
       "    .dataframe tbody tr th:only-of-type {\n",
       "        vertical-align: middle;\n",
       "    }\n",
       "\n",
       "    .dataframe tbody tr th {\n",
       "        vertical-align: top;\n",
       "    }\n",
       "\n",
       "    .dataframe thead th {\n",
       "        text-align: right;\n",
       "    }\n",
       "</style>\n",
       "<table border=\"1\" class=\"dataframe\">\n",
       "  <thead>\n",
       "    <tr style=\"text-align: right;\">\n",
       "      <th></th>\n",
       "      <th>Student</th>\n",
       "      <th>Class</th>\n",
       "      <th>Year</th>\n",
       "      <th>Grade</th>\n",
       "    </tr>\n",
       "  </thead>\n",
       "  <tbody>\n",
       "    <tr>\n",
       "      <th>0</th>\n",
       "      <td>Emma</td>\n",
       "      <td>Freshman Seminar</td>\n",
       "      <td>Freshman</td>\n",
       "      <td>86.0</td>\n",
       "    </tr>\n",
       "    <tr>\n",
       "      <th>1</th>\n",
       "      <td>Olivia</td>\n",
       "      <td>Freshman Seminar</td>\n",
       "      <td>Freshman</td>\n",
       "      <td>86.0</td>\n",
       "    </tr>\n",
       "    <tr>\n",
       "      <th>2</th>\n",
       "      <td>Noah</td>\n",
       "      <td>Freshman Seminar</td>\n",
       "      <td>Freshman</td>\n",
       "      <td>86.0</td>\n",
       "    </tr>\n",
       "    <tr>\n",
       "      <th>3</th>\n",
       "      <td>Sophia</td>\n",
       "      <td>Freshman Seminar</td>\n",
       "      <td>Freshman</td>\n",
       "      <td>87.0</td>\n",
       "    </tr>\n",
       "    <tr>\n",
       "      <th>4</th>\n",
       "      <td>Liam</td>\n",
       "      <td>Freshman Seminar</td>\n",
       "      <td>Freshman</td>\n",
       "      <td>90.0</td>\n",
       "    </tr>\n",
       "  </tbody>\n",
       "</table>\n",
       "</div>"
      ],
      "text/plain": [
       "  Student             Class      Year  Grade\n",
       "0    Emma  Freshman Seminar  Freshman   86.0\n",
       "1  Olivia  Freshman Seminar  Freshman   86.0\n",
       "2    Noah  Freshman Seminar  Freshman   86.0\n",
       "3  Sophia  Freshman Seminar  Freshman   87.0\n",
       "4    Liam  Freshman Seminar  Freshman   90.0"
      ]
     },
     "execution_count": 54,
     "metadata": {},
     "output_type": "execute_result"
    }
   ],
   "source": [
    "df_grades.head()"
   ]
  },
  {
   "cell_type": "code",
   "execution_count": 55,
   "id": "c9f143e9-ac42-4400-8d01-408db47c9f82",
   "metadata": {
    "hidden": true
   },
   "outputs": [
    {
     "data": {
      "text/plain": [
       "Class\n",
       "Intro to Python              25\n",
       "Intro to SQL                 20\n",
       "EDA                          13\n",
       "Freshman Seminar             12\n",
       "Exploratory Data Analysis    12\n",
       "Python                        1\n",
       "Name: count, dtype: int64"
      ]
     },
     "execution_count": 55,
     "metadata": {},
     "output_type": "execute_result"
    }
   ],
   "source": [
    "df_grades.Class.value_counts()"
   ]
  },
  {
   "cell_type": "code",
   "execution_count": 9,
   "id": "ced23c2b-56ab-4e66-ac1b-9303b71e4106",
   "metadata": {
    "hidden": true
   },
   "outputs": [],
   "source": [
    "run_times = df = pd.read_excel('../My_Datas/Data/Run Times.xlsx')"
   ]
  },
  {
   "cell_type": "code",
   "execution_count": 10,
   "id": "372983e7-56e5-4548-b9f3-8eb05fbbf6e9",
   "metadata": {
    "hidden": true
   },
   "outputs": [
    {
     "data": {
      "text/html": [
       "<div>\n",
       "<style scoped>\n",
       "    .dataframe tbody tr th:only-of-type {\n",
       "        vertical-align: middle;\n",
       "    }\n",
       "\n",
       "    .dataframe tbody tr th {\n",
       "        vertical-align: top;\n",
       "    }\n",
       "\n",
       "    .dataframe thead th {\n",
       "        text-align: right;\n",
       "    }\n",
       "</style>\n",
       "<table border=\"1\" class=\"dataframe\">\n",
       "  <thead>\n",
       "    <tr style=\"text-align: right;\">\n",
       "      <th></th>\n",
       "      <th>Name</th>\n",
       "      <th>Run Time</th>\n",
       "      <th>Warm Up Time</th>\n",
       "      <th>Location</th>\n",
       "      <th>Run Date</th>\n",
       "      <th>Race Date</th>\n",
       "      <th>Rain</th>\n",
       "      <th>Fee</th>\n",
       "    </tr>\n",
       "  </thead>\n",
       "  <tbody>\n",
       "    <tr>\n",
       "      <th>0</th>\n",
       "      <td>Alexis</td>\n",
       "      <td>9.2343</td>\n",
       "      <td>3.5</td>\n",
       "      <td>“school”</td>\n",
       "      <td>2023-04-15 12:00:00</td>\n",
       "      <td>2023-06-01</td>\n",
       "      <td>False</td>\n",
       "      <td>$0.00</td>\n",
       "    </tr>\n",
       "    <tr>\n",
       "      <th>1</th>\n",
       "      <td>Alexis</td>\n",
       "      <td>10.3842</td>\n",
       "      <td>3.5</td>\n",
       "      <td>School</td>\n",
       "      <td>2023-04-22 12:30:00</td>\n",
       "      <td>2023-06-01</td>\n",
       "      <td>True</td>\n",
       "      <td>$0.00</td>\n",
       "    </tr>\n",
       "    <tr>\n",
       "      <th>2</th>\n",
       "      <td>Alexis</td>\n",
       "      <td>8.1209</td>\n",
       "      <td>3 min</td>\n",
       "      <td>“the gym”</td>\n",
       "      <td>2023-05-10 15:00:00</td>\n",
       "      <td>2023-06-01</td>\n",
       "      <td>False</td>\n",
       "      <td>$2.50</td>\n",
       "    </tr>\n",
       "    <tr>\n",
       "      <th>3</th>\n",
       "      <td>David</td>\n",
       "      <td>7.2123</td>\n",
       "      <td>2.2</td>\n",
       "      <td>“school”</td>\n",
       "      <td>2023-05-01 15:15:00</td>\n",
       "      <td>2023-06-15</td>\n",
       "      <td>False</td>\n",
       "      <td>$0.00</td>\n",
       "    </tr>\n",
       "    <tr>\n",
       "      <th>4</th>\n",
       "      <td>David</td>\n",
       "      <td>6.8342</td>\n",
       "      <td>2</td>\n",
       "      <td>“gym”</td>\n",
       "      <td>2023-05-10 16:30:00</td>\n",
       "      <td>2023-06-15</td>\n",
       "      <td>False</td>\n",
       "      <td>$2.50</td>\n",
       "    </tr>\n",
       "  </tbody>\n",
       "</table>\n",
       "</div>"
      ],
      "text/plain": [
       "     Name  Run Time Warm Up Time   Location            Run Date  Race Date  \\\n",
       "0  Alexis    9.2343          3.5   “school” 2023-04-15 12:00:00 2023-06-01   \n",
       "1  Alexis   10.3842          3.5     School 2023-04-22 12:30:00 2023-06-01   \n",
       "2  Alexis    8.1209        3 min  “the gym” 2023-05-10 15:00:00 2023-06-01   \n",
       "3   David    7.2123          2.2   “school” 2023-05-01 15:15:00 2023-06-15   \n",
       "4   David    6.8342            2      “gym” 2023-05-10 16:30:00 2023-06-15   \n",
       "\n",
       "    Rain    Fee  \n",
       "0  False  $0.00  \n",
       "1   True  $0.00  \n",
       "2  False  $2.50  \n",
       "3  False  $0.00  \n",
       "4  False  $2.50  "
      ]
     },
     "execution_count": 10,
     "metadata": {},
     "output_type": "execute_result"
    }
   ],
   "source": [
    "run_times"
   ]
  },
  {
   "cell_type": "markdown",
   "id": "a7736626-8ba9-46e5-8cfc-b8945bec8253",
   "metadata": {
    "heading_collapsed": true,
    "jp-MarkdownHeadingCollapsed": true
   },
   "source": [
    "## Duplicate Data\n",
    "\n"
   ]
  },
  {
   "cell_type": "code",
   "execution_count": 56,
   "id": "9c24e97e-14aa-4910-88ab-e6cf1947b189",
   "metadata": {
    "hidden": true
   },
   "outputs": [
    {
     "data": {
      "text/html": [
       "<div>\n",
       "<style scoped>\n",
       "    .dataframe tbody tr th:only-of-type {\n",
       "        vertical-align: middle;\n",
       "    }\n",
       "\n",
       "    .dataframe tbody tr th {\n",
       "        vertical-align: top;\n",
       "    }\n",
       "\n",
       "    .dataframe thead th {\n",
       "        text-align: right;\n",
       "    }\n",
       "</style>\n",
       "<table border=\"1\" class=\"dataframe\">\n",
       "  <thead>\n",
       "    <tr style=\"text-align: right;\">\n",
       "      <th></th>\n",
       "      <th>Student</th>\n",
       "      <th>Class</th>\n",
       "      <th>Year</th>\n",
       "      <th>Grade</th>\n",
       "    </tr>\n",
       "  </thead>\n",
       "  <tbody>\n",
       "    <tr>\n",
       "      <th>0</th>\n",
       "      <td>Emma</td>\n",
       "      <td>Freshman Seminar</td>\n",
       "      <td>Freshman</td>\n",
       "      <td>86.0</td>\n",
       "    </tr>\n",
       "    <tr>\n",
       "      <th>1</th>\n",
       "      <td>Olivia</td>\n",
       "      <td>Freshman Seminar</td>\n",
       "      <td>Freshman</td>\n",
       "      <td>86.0</td>\n",
       "    </tr>\n",
       "    <tr>\n",
       "      <th>2</th>\n",
       "      <td>Noah</td>\n",
       "      <td>Freshman Seminar</td>\n",
       "      <td>Freshman</td>\n",
       "      <td>86.0</td>\n",
       "    </tr>\n",
       "    <tr>\n",
       "      <th>3</th>\n",
       "      <td>Sophia</td>\n",
       "      <td>Freshman Seminar</td>\n",
       "      <td>Freshman</td>\n",
       "      <td>87.0</td>\n",
       "    </tr>\n",
       "    <tr>\n",
       "      <th>4</th>\n",
       "      <td>Liam</td>\n",
       "      <td>Freshman Seminar</td>\n",
       "      <td>Freshman</td>\n",
       "      <td>90.0</td>\n",
       "    </tr>\n",
       "  </tbody>\n",
       "</table>\n",
       "</div>"
      ],
      "text/plain": [
       "  Student             Class      Year  Grade\n",
       "0    Emma  Freshman Seminar  Freshman   86.0\n",
       "1  Olivia  Freshman Seminar  Freshman   86.0\n",
       "2    Noah  Freshman Seminar  Freshman   86.0\n",
       "3  Sophia  Freshman Seminar  Freshman   87.0\n",
       "4    Liam  Freshman Seminar  Freshman   90.0"
      ]
     },
     "execution_count": 56,
     "metadata": {},
     "output_type": "execute_result"
    }
   ],
   "source": [
    "df_grades.head()"
   ]
  },
  {
   "cell_type": "markdown",
   "id": "ae4659c6-fd3a-42ef-8077-c2b47a4fba4a",
   "metadata": {
    "heading_collapsed": true,
    "jp-MarkdownHeadingCollapsed": true
   },
   "source": [
    "## Outliers"
   ]
  },
  {
   "cell_type": "code",
   "execution_count": 57,
   "id": "0b5b7bbf-cebc-402a-bc27-db75c9b6b639",
   "metadata": {
    "hidden": true
   },
   "outputs": [
    {
     "data": {
      "image/png": "[encoded data removed]",
      "text/plain": [
       "<Figure size 640x480 with 1 Axes>"
      ]
     },
     "metadata": {},
     "output_type": "display_data"
    }
   ],
   "source": [
    "df_grades.hist();"
   ]
  },
  {
   "cell_type": "code",
   "execution_count": 58,
   "id": "829280a4-d277-4603-a172-825d49f3d684",
   "metadata": {
    "hidden": true
   },
   "outputs": [
    {
     "data": {
      "text/plain": [
       "155.0"
      ]
     },
     "execution_count": 58,
     "metadata": {},
     "output_type": "execute_result"
    }
   ],
   "source": [
    "df_grades.Grade.max() - df_grades.Grade.min()"
   ]
  },
  {
   "cell_type": "code",
   "execution_count": 59,
   "id": "cb66070d-aba4-4eb4-847f-af639f63d6ab",
   "metadata": {
    "hidden": true
   },
   "outputs": [
    {
     "data": {
      "image/png": "[encoded data removed]",
      "text/plain": [
       "<Figure size 640x480 with 1 Axes>"
      ]
     },
     "metadata": {},
     "output_type": "display_data"
    }
   ],
   "source": [
    "df_grades.hist(bins=3);"
   ]
  },
  {
   "cell_type": "code",
   "execution_count": 60,
   "id": "748bd749-e748-44fa-a752-72d69e44290e",
   "metadata": {
    "hidden": true
   },
   "outputs": [
    {
     "data": {
      "image/png": "[encoded data removed]",
      "text/plain": [
       "<Figure size 640x480 with 1 Axes>"
      ]
     },
     "metadata": {},
     "output_type": "display_data"
    }
   ],
   "source": [
    "sns.histplot(df_grades, binwidth=5);"
   ]
  },
  {
   "cell_type": "code",
   "execution_count": 63,
   "id": "17a04ba0-45da-4645-b9fc-d977abb7837e",
   "metadata": {
    "hidden": true
   },
   "outputs": [
    {
     "data": {
      "text/plain": [
       "<Axes: xlabel='Grade'>"
      ]
     },
     "execution_count": 63,
     "metadata": {},
     "output_type": "execute_result"
    },
    {
     "data": {
      "image/png": "[encoded data removed]",
      "text/plain": [
       "<Figure size 640x480 with 1 Axes>"
      ]
     },
     "metadata": {},
     "output_type": "display_data"
    }
   ],
   "source": [
    "sns.boxplot(x=df_grades.Grade)"
   ]
  },
  {
   "cell_type": "code",
   "execution_count": 25,
   "id": "904b88bb-ded0-4f01-9e3c-4f4a4e4dcdef",
   "metadata": {
    "hidden": true
   },
   "outputs": [],
   "source": [
    "q25, q50, q75 = np.percentile(df.Grade, (25, 50, 75))"
   ]
  },
  {
   "cell_type": "code",
   "execution_count": 26,
   "id": "3ac8bedb-2f90-415a-a023-500b4a4bff59",
   "metadata": {
    "hidden": true
   },
   "outputs": [],
   "source": [
    "iqr = q75 - q25"
   ]
  },
  {
   "cell_type": "code",
   "execution_count": 27,
   "id": "60ca76f3-5c19-4569-8610-6b91a8f13550",
   "metadata": {
    "hidden": true
   },
   "outputs": [],
   "source": [
    "min_grade = q25 - 1.5*iqr\n",
    "max_grade = q25 + 1.5*iqr"
   ]
  },
  {
   "cell_type": "markdown",
   "id": "002a41e2-4c27-46fe-bd3b-71c1aabbb128",
   "metadata": {
    "heading_collapsed": true,
    "jp-MarkdownHeadingCollapsed": true
   },
   "source": [
    "## Standard Deviation"
   ]
  },
  {
   "cell_type": "code",
   "execution_count": 34,
   "id": "c944b696-3f85-46d6-a8af-2ab516d6f1e6",
   "metadata": {
    "hidden": true
   },
   "outputs": [],
   "source": [
    "mean = np.mean(df.Grade)\n",
    "sd = np.std(df.Grade)"
   ]
  },
  {
   "cell_type": "code",
   "execution_count": 35,
   "id": "05f1e024-6701-4b2f-8a53-b0923b96cd17",
   "metadata": {
    "hidden": true
   },
   "outputs": [
    {
     "data": {
      "text/plain": [
       "(85.70731707317073, 15.432376328465006)"
      ]
     },
     "execution_count": 35,
     "metadata": {},
     "output_type": "execute_result"
    }
   ],
   "source": [
    "mean, sd"
   ]
  },
  {
   "cell_type": "code",
   "execution_count": 42,
   "id": "4236d228-f2bc-48a8-abc1-1f589b7b0b83",
   "metadata": {
    "hidden": true
   },
   "outputs": [
    {
     "data": {
      "text/plain": [
       "[50.0, 45.0, 200.0]"
      ]
     },
     "execution_count": 42,
     "metadata": {},
     "output_type": "execute_result"
    }
   ],
   "source": [
    "[grade for grade in df.Grade if(grade < mean - 2*sd) or (grade > mean + 2*sd)]"
   ]
  },
  {
   "cell_type": "code",
   "execution_count": null,
   "id": "afd47442-e849-4913-bf40-45686077aed7",
   "metadata": {
    "hidden": true
   },
   "outputs": [],
   "source": [
    "df.Grade.iloc(69)"
   ]
  },
  {
   "cell_type": "markdown",
   "id": "070b954b-13d2-4a87-ad07-6939e9c26029",
   "metadata": {
    "heading_collapsed": true,
    "jp-MarkdownHeadingCollapsed": true
   },
   "source": [
    "## Handling Outliers\n"
   ]
  },
  {
   "cell_type": "code",
   "execution_count": 70,
   "id": "1802d046-d6a5-4fe4-801b-69faa77326f6",
   "metadata": {
    "hidden": true
   },
   "outputs": [],
   "source": [
    "df = pd.read_excel('../My_Datas/Data/Student Grades.xlsx')"
   ]
  },
  {
   "cell_type": "code",
   "execution_count": 74,
   "id": "3b318788-156b-46b0-880e-3ed4fd0adbc0",
   "metadata": {
    "hidden": true
   },
   "outputs": [
    {
     "data": {
      "text/html": [
       "<div>\n",
       "<style scoped>\n",
       "    .dataframe tbody tr th:only-of-type {\n",
       "        vertical-align: middle;\n",
       "    }\n",
       "\n",
       "    .dataframe tbody tr th {\n",
       "        vertical-align: top;\n",
       "    }\n",
       "\n",
       "    .dataframe thead th {\n",
       "        text-align: right;\n",
       "    }\n",
       "</style>\n",
       "<table border=\"1\" class=\"dataframe\">\n",
       "  <thead>\n",
       "    <tr style=\"text-align: right;\">\n",
       "      <th></th>\n",
       "      <th>Student</th>\n",
       "      <th>Class</th>\n",
       "      <th>Year</th>\n",
       "      <th>Grade</th>\n",
       "    </tr>\n",
       "  </thead>\n",
       "  <tbody>\n",
       "    <tr>\n",
       "      <th>37</th>\n",
       "      <td>John</td>\n",
       "      <td>Intro to Python</td>\n",
       "      <td>Freshman</td>\n",
       "      <td>50.0</td>\n",
       "    </tr>\n",
       "    <tr>\n",
       "      <th>56</th>\n",
       "      <td>Wyatt</td>\n",
       "      <td>Intro to SQL</td>\n",
       "      <td>Sophomore</td>\n",
       "      <td>45.0</td>\n",
       "    </tr>\n",
       "  </tbody>\n",
       "</table>\n",
       "</div>"
      ],
      "text/plain": [
       "   Student            Class       Year  Grade\n",
       "37    John  Intro to Python   Freshman   50.0\n",
       "56   Wyatt     Intro to SQL  Sophomore   45.0"
      ]
     },
     "execution_count": 74,
     "metadata": {},
     "output_type": "execute_result"
    }
   ],
   "source": [
    "df[df.Grade < 60]"
   ]
  },
  {
   "cell_type": "code",
   "execution_count": 88,
   "id": "833c89cf-39e9-4651-a8c3-6ff86093768d",
   "metadata": {
    "hidden": true
   },
   "outputs": [
    {
     "data": {
      "text/html": [
       "<div>\n",
       "<style scoped>\n",
       "    .dataframe tbody tr th:only-of-type {\n",
       "        vertical-align: middle;\n",
       "    }\n",
       "\n",
       "    .dataframe tbody tr th {\n",
       "        vertical-align: top;\n",
       "    }\n",
       "\n",
       "    .dataframe thead th {\n",
       "        text-align: right;\n",
       "    }\n",
       "</style>\n",
       "<table border=\"1\" class=\"dataframe\">\n",
       "  <thead>\n",
       "    <tr style=\"text-align: right;\">\n",
       "      <th></th>\n",
       "      <th>Student</th>\n",
       "      <th>Class</th>\n",
       "      <th>Year</th>\n",
       "      <th>Grade</th>\n",
       "    </tr>\n",
       "  </thead>\n",
       "  <tbody>\n",
       "    <tr>\n",
       "      <th>37</th>\n",
       "      <td>John</td>\n",
       "      <td>Intro to Python</td>\n",
       "      <td>Freshman</td>\n",
       "      <td>64.0</td>\n",
       "    </tr>\n",
       "    <tr>\n",
       "      <th>56</th>\n",
       "      <td>Wyatt</td>\n",
       "      <td>Intro to SQL</td>\n",
       "      <td>Sophomore</td>\n",
       "      <td>64.0</td>\n",
       "    </tr>\n",
       "  </tbody>\n",
       "</table>\n",
       "</div>"
      ],
      "text/plain": [
       "   Student            Class       Year  Grade\n",
       "37    John  Intro to Python   Freshman   64.0\n",
       "56   Wyatt     Intro to SQL  Sophomore   64.0"
      ]
     },
     "execution_count": 88,
     "metadata": {},
     "output_type": "execute_result"
    }
   ],
   "source": [
    "df.loc[[37, 56]]"
   ]
  },
  {
   "cell_type": "code",
   "execution_count": 75,
   "id": "e5993049-c47e-4768-908e-e7743e1b8340",
   "metadata": {
    "hidden": true
   },
   "outputs": [
    {
     "data": {
      "text/html": [
       "<div>\n",
       "<style scoped>\n",
       "    .dataframe tbody tr th:only-of-type {\n",
       "        vertical-align: middle;\n",
       "    }\n",
       "\n",
       "    .dataframe tbody tr th {\n",
       "        vertical-align: top;\n",
       "    }\n",
       "\n",
       "    .dataframe thead th {\n",
       "        text-align: right;\n",
       "    }\n",
       "</style>\n",
       "<table border=\"1\" class=\"dataframe\">\n",
       "  <thead>\n",
       "    <tr style=\"text-align: right;\">\n",
       "      <th></th>\n",
       "      <th>Student</th>\n",
       "      <th>Class</th>\n",
       "      <th>Year</th>\n",
       "      <th>Grade</th>\n",
       "    </tr>\n",
       "  </thead>\n",
       "  <tbody>\n",
       "    <tr>\n",
       "      <th>0</th>\n",
       "      <td>Emma</td>\n",
       "      <td>Freshman Seminar</td>\n",
       "      <td>Freshman</td>\n",
       "      <td>86.0</td>\n",
       "    </tr>\n",
       "    <tr>\n",
       "      <th>1</th>\n",
       "      <td>Olivia</td>\n",
       "      <td>Freshman Seminar</td>\n",
       "      <td>Freshman</td>\n",
       "      <td>86.0</td>\n",
       "    </tr>\n",
       "    <tr>\n",
       "      <th>2</th>\n",
       "      <td>Noah</td>\n",
       "      <td>Freshman Seminar</td>\n",
       "      <td>Freshman</td>\n",
       "      <td>86.0</td>\n",
       "    </tr>\n",
       "    <tr>\n",
       "      <th>3</th>\n",
       "      <td>Sophia</td>\n",
       "      <td>Freshman Seminar</td>\n",
       "      <td>Freshman</td>\n",
       "      <td>87.0</td>\n",
       "    </tr>\n",
       "    <tr>\n",
       "      <th>4</th>\n",
       "      <td>Liam</td>\n",
       "      <td>Freshman Seminar</td>\n",
       "      <td>Freshman</td>\n",
       "      <td>90.0</td>\n",
       "    </tr>\n",
       "    <tr>\n",
       "      <th>...</th>\n",
       "      <td>...</td>\n",
       "      <td>...</td>\n",
       "      <td>...</td>\n",
       "      <td>...</td>\n",
       "    </tr>\n",
       "    <tr>\n",
       "      <th>81</th>\n",
       "      <td>NaN</td>\n",
       "      <td>NaN</td>\n",
       "      <td>NaN</td>\n",
       "      <td>NaN</td>\n",
       "    </tr>\n",
       "    <tr>\n",
       "      <th>82</th>\n",
       "      <td>Bennett</td>\n",
       "      <td>NaN</td>\n",
       "      <td>NaN</td>\n",
       "      <td>NaN</td>\n",
       "    </tr>\n",
       "    <tr>\n",
       "      <th>83</th>\n",
       "      <td>NaN</td>\n",
       "      <td>EDA</td>\n",
       "      <td>Junior</td>\n",
       "      <td>84.0</td>\n",
       "    </tr>\n",
       "    <tr>\n",
       "      <th>84</th>\n",
       "      <td>Gavin</td>\n",
       "      <td>EDA</td>\n",
       "      <td>Senior</td>\n",
       "      <td>NaN</td>\n",
       "    </tr>\n",
       "    <tr>\n",
       "      <th>85</th>\n",
       "      <td>Calvin</td>\n",
       "      <td>NaN</td>\n",
       "      <td>NaN</td>\n",
       "      <td>100.0</td>\n",
       "    </tr>\n",
       "  </tbody>\n",
       "</table>\n",
       "<p>84 rows × 4 columns</p>\n",
       "</div>"
      ],
      "text/plain": [
       "    Student             Class      Year  Grade\n",
       "0      Emma  Freshman Seminar  Freshman   86.0\n",
       "1    Olivia  Freshman Seminar  Freshman   86.0\n",
       "2      Noah  Freshman Seminar  Freshman   86.0\n",
       "3    Sophia  Freshman Seminar  Freshman   87.0\n",
       "4      Liam  Freshman Seminar  Freshman   90.0\n",
       "..      ...               ...       ...    ...\n",
       "81      NaN               NaN       NaN    NaN\n",
       "82  Bennett               NaN       NaN    NaN\n",
       "83      NaN               EDA    Junior   84.0\n",
       "84    Gavin               EDA    Senior    NaN\n",
       "85   Calvin               NaN       NaN  100.0\n",
       "\n",
       "[84 rows x 4 columns]"
      ]
     },
     "execution_count": 75,
     "metadata": {},
     "output_type": "execute_result"
    }
   ],
   "source": [
    "df.drop([37, 56])"
   ]
  },
  {
   "cell_type": "code",
   "execution_count": 77,
   "id": "e2165f90-c740-4ce4-ac9b-bfb097d09327",
   "metadata": {
    "hidden": true
   },
   "outputs": [
    {
     "data": {
      "text/html": [
       "<div>\n",
       "<style scoped>\n",
       "    .dataframe tbody tr th:only-of-type {\n",
       "        vertical-align: middle;\n",
       "    }\n",
       "\n",
       "    .dataframe tbody tr th {\n",
       "        vertical-align: top;\n",
       "    }\n",
       "\n",
       "    .dataframe thead th {\n",
       "        text-align: right;\n",
       "    }\n",
       "</style>\n",
       "<table border=\"1\" class=\"dataframe\">\n",
       "  <thead>\n",
       "    <tr style=\"text-align: right;\">\n",
       "      <th></th>\n",
       "      <th>Student</th>\n",
       "      <th>Class</th>\n",
       "      <th>Year</th>\n",
       "      <th>Grade</th>\n",
       "    </tr>\n",
       "  </thead>\n",
       "  <tbody>\n",
       "    <tr>\n",
       "      <th>0</th>\n",
       "      <td>Emma</td>\n",
       "      <td>Freshman Seminar</td>\n",
       "      <td>Freshman</td>\n",
       "      <td>86.0</td>\n",
       "    </tr>\n",
       "    <tr>\n",
       "      <th>1</th>\n",
       "      <td>Olivia</td>\n",
       "      <td>Freshman Seminar</td>\n",
       "      <td>Freshman</td>\n",
       "      <td>86.0</td>\n",
       "    </tr>\n",
       "    <tr>\n",
       "      <th>2</th>\n",
       "      <td>Noah</td>\n",
       "      <td>Freshman Seminar</td>\n",
       "      <td>Freshman</td>\n",
       "      <td>86.0</td>\n",
       "    </tr>\n",
       "    <tr>\n",
       "      <th>3</th>\n",
       "      <td>Sophia</td>\n",
       "      <td>Freshman Seminar</td>\n",
       "      <td>Freshman</td>\n",
       "      <td>87.0</td>\n",
       "    </tr>\n",
       "    <tr>\n",
       "      <th>4</th>\n",
       "      <td>Liam</td>\n",
       "      <td>Freshman Seminar</td>\n",
       "      <td>Freshman</td>\n",
       "      <td>90.0</td>\n",
       "    </tr>\n",
       "    <tr>\n",
       "      <th>...</th>\n",
       "      <td>...</td>\n",
       "      <td>...</td>\n",
       "      <td>...</td>\n",
       "      <td>...</td>\n",
       "    </tr>\n",
       "    <tr>\n",
       "      <th>78</th>\n",
       "      <td>Charles</td>\n",
       "      <td>EDA</td>\n",
       "      <td>Junior</td>\n",
       "      <td>93.0</td>\n",
       "    </tr>\n",
       "    <tr>\n",
       "      <th>79</th>\n",
       "      <td>Connor</td>\n",
       "      <td>EDA</td>\n",
       "      <td>Junior</td>\n",
       "      <td>91.0</td>\n",
       "    </tr>\n",
       "    <tr>\n",
       "      <th>80</th>\n",
       "      <td>Riley</td>\n",
       "      <td>EDA</td>\n",
       "      <td>Junior</td>\n",
       "      <td>87.0</td>\n",
       "    </tr>\n",
       "    <tr>\n",
       "      <th>83</th>\n",
       "      <td>NaN</td>\n",
       "      <td>EDA</td>\n",
       "      <td>Junior</td>\n",
       "      <td>84.0</td>\n",
       "    </tr>\n",
       "    <tr>\n",
       "      <th>85</th>\n",
       "      <td>Calvin</td>\n",
       "      <td>NaN</td>\n",
       "      <td>NaN</td>\n",
       "      <td>100.0</td>\n",
       "    </tr>\n",
       "  </tbody>\n",
       "</table>\n",
       "<p>80 rows × 4 columns</p>\n",
       "</div>"
      ],
      "text/plain": [
       "    Student             Class      Year  Grade\n",
       "0      Emma  Freshman Seminar  Freshman   86.0\n",
       "1    Olivia  Freshman Seminar  Freshman   86.0\n",
       "2      Noah  Freshman Seminar  Freshman   86.0\n",
       "3    Sophia  Freshman Seminar  Freshman   87.0\n",
       "4      Liam  Freshman Seminar  Freshman   90.0\n",
       "..      ...               ...       ...    ...\n",
       "78  Charles               EDA    Junior   93.0\n",
       "79   Connor               EDA    Junior   91.0\n",
       "80    Riley               EDA    Junior   87.0\n",
       "83      NaN               EDA    Junior   84.0\n",
       "85   Calvin               NaN       NaN  100.0\n",
       "\n",
       "[80 rows x 4 columns]"
      ]
     },
     "execution_count": 77,
     "metadata": {},
     "output_type": "execute_result"
    }
   ],
   "source": [
    "df[df.Grade >= 60]"
   ]
  },
  {
   "cell_type": "code",
   "execution_count": 87,
   "id": "3b7955ec-8eae-4bec-82c9-43f8901ab0b5",
   "metadata": {
    "hidden": true
   },
   "outputs": [
    {
     "data": {
      "text/html": [
       "<div>\n",
       "<style scoped>\n",
       "    .dataframe tbody tr th:only-of-type {\n",
       "        vertical-align: middle;\n",
       "    }\n",
       "\n",
       "    .dataframe tbody tr th {\n",
       "        vertical-align: top;\n",
       "    }\n",
       "\n",
       "    .dataframe thead th {\n",
       "        text-align: right;\n",
       "    }\n",
       "</style>\n",
       "<table border=\"1\" class=\"dataframe\">\n",
       "  <thead>\n",
       "    <tr style=\"text-align: right;\">\n",
       "      <th></th>\n",
       "      <th>Student</th>\n",
       "      <th>Class</th>\n",
       "      <th>Year</th>\n",
       "      <th>Grade</th>\n",
       "    </tr>\n",
       "  </thead>\n",
       "  <tbody>\n",
       "  </tbody>\n",
       "</table>\n",
       "</div>"
      ],
      "text/plain": [
       "Empty DataFrame\n",
       "Columns: [Student, Class, Year, Grade]\n",
       "Index: []"
      ]
     },
     "execution_count": 87,
     "metadata": {},
     "output_type": "execute_result"
    }
   ],
   "source": [
    "df[df.Grade < 60]"
   ]
  },
  {
   "cell_type": "code",
   "execution_count": 84,
   "id": "509d97a8-abd9-48ec-a4ca-9ecfb39d3923",
   "metadata": {
    "hidden": true
   },
   "outputs": [
    {
     "data": {
      "text/plain": [
       "64.0"
      ]
     },
     "execution_count": 84,
     "metadata": {},
     "output_type": "execute_result"
    }
   ],
   "source": [
    "min_grade = df[df.Grade >= 60].Grade.min()\n",
    "min_grade"
   ]
  },
  {
   "cell_type": "code",
   "execution_count": 86,
   "id": "a75399bb-2ca6-4f5d-88d0-efed57af7c9a",
   "metadata": {
    "hidden": true
   },
   "outputs": [],
   "source": [
    "df.Grade = np.where(df.Grade < 60, min_grade, df.Grade)"
   ]
  },
  {
   "cell_type": "code",
   "execution_count": 91,
   "id": "33d7b329-021c-433b-b73d-ffee904249f2",
   "metadata": {
    "hidden": true
   },
   "outputs": [
    {
     "data": {
      "text/html": [
       "<div>\n",
       "<style scoped>\n",
       "    .dataframe tbody tr th:only-of-type {\n",
       "        vertical-align: middle;\n",
       "    }\n",
       "\n",
       "    .dataframe tbody tr th {\n",
       "        vertical-align: top;\n",
       "    }\n",
       "\n",
       "    .dataframe thead th {\n",
       "        text-align: right;\n",
       "    }\n",
       "</style>\n",
       "<table border=\"1\" class=\"dataframe\">\n",
       "  <thead>\n",
       "    <tr style=\"text-align: right;\">\n",
       "      <th></th>\n",
       "      <th>Student</th>\n",
       "      <th>Class</th>\n",
       "      <th>Year</th>\n",
       "      <th>Grade</th>\n",
       "    </tr>\n",
       "  </thead>\n",
       "  <tbody>\n",
       "    <tr>\n",
       "      <th>37</th>\n",
       "      <td>John</td>\n",
       "      <td>Intro to Python</td>\n",
       "      <td>Freshman</td>\n",
       "      <td>74.0</td>\n",
       "    </tr>\n",
       "  </tbody>\n",
       "</table>\n",
       "</div>"
      ],
      "text/plain": [
       "   Student            Class      Year  Grade\n",
       "37    John  Intro to Python  Freshman   74.0"
      ]
     },
     "execution_count": 91,
     "metadata": {},
     "output_type": "execute_result"
    }
   ],
   "source": [
    "df[df.Student == 'John']"
   ]
  },
  {
   "cell_type": "code",
   "execution_count": 90,
   "id": "cd948d43-7f87-44c0-83c3-c0a65f934831",
   "metadata": {
    "hidden": true
   },
   "outputs": [],
   "source": [
    "df.loc[37, 'Grade'] = 74"
   ]
  },
  {
   "cell_type": "markdown",
   "id": "b5ea02a8-77ff-45e0-9554-5810884ed4d6",
   "metadata": {
    "heading_collapsed": true
   },
   "source": [
    "## Creating new columns\n",
    "\n"
   ]
  },
  {
   "cell_type": "code",
   "execution_count": 3,
   "id": "f467f67c-8022-40e9-9eac-c2cdfe56ade0",
   "metadata": {
    "hidden": true
   },
   "outputs": [],
   "source": [
    "groceries = pd.read_excel('../My_Datas/Data/Groceries.xlsx')"
   ]
  },
  {
   "cell_type": "code",
   "execution_count": 5,
   "id": "d2fd6c48-1038-4baa-b819-a1db3bff41b8",
   "metadata": {
    "hidden": true
   },
   "outputs": [
    {
     "data": {
      "text/html": [
       "<div>\n",
       "<style scoped>\n",
       "    .dataframe tbody tr th:only-of-type {\n",
       "        vertical-align: middle;\n",
       "    }\n",
       "\n",
       "    .dataframe tbody tr th {\n",
       "        vertical-align: top;\n",
       "    }\n",
       "\n",
       "    .dataframe thead th {\n",
       "        text-align: right;\n",
       "    }\n",
       "</style>\n",
       "<table border=\"1\" class=\"dataframe\">\n",
       "  <thead>\n",
       "    <tr style=\"text-align: right;\">\n",
       "      <th></th>\n",
       "      <th>Product_ID</th>\n",
       "      <th>Category</th>\n",
       "      <th>Item</th>\n",
       "      <th>Price_Dollars</th>\n",
       "      <th>Inventory</th>\n",
       "      <th>Last_Updated</th>\n",
       "      <th>Next_Scheduled_Shipment</th>\n",
       "    </tr>\n",
       "  </thead>\n",
       "  <tbody>\n",
       "    <tr>\n",
       "      <th>0</th>\n",
       "      <td>P100010</td>\n",
       "      <td>Produce: Fruit</td>\n",
       "      <td>Apple</td>\n",
       "      <td>1.50</td>\n",
       "      <td>349</td>\n",
       "      <td>2023-06-12 15:35:00</td>\n",
       "      <td>2023-06-15</td>\n",
       "    </tr>\n",
       "    <tr>\n",
       "      <th>1</th>\n",
       "      <td>P100011</td>\n",
       "      <td>Produce: Fruit</td>\n",
       "      <td>Banana</td>\n",
       "      <td>0.40</td>\n",
       "      <td>500</td>\n",
       "      <td>2023-06-12 18:30:00</td>\n",
       "      <td>2023-06-15</td>\n",
       "    </tr>\n",
       "    <tr>\n",
       "      <th>2</th>\n",
       "      <td>P100012</td>\n",
       "      <td>Produce: Fruit</td>\n",
       "      <td>Grapes</td>\n",
       "      <td>4.00</td>\n",
       "      <td>200</td>\n",
       "      <td>2023-06-12 17:22:00</td>\n",
       "      <td>2023-06-15</td>\n",
       "    </tr>\n",
       "    <tr>\n",
       "      <th>3</th>\n",
       "      <td>P100013</td>\n",
       "      <td>Produce: Fruit</td>\n",
       "      <td>Grapefruit</td>\n",
       "      <td>0.99</td>\n",
       "      <td>50</td>\n",
       "      <td>2023-06-12 16:29:00</td>\n",
       "      <td>2023-06-15</td>\n",
       "    </tr>\n",
       "    <tr>\n",
       "      <th>4</th>\n",
       "      <td>P100014</td>\n",
       "      <td>Produce: Fruit</td>\n",
       "      <td>Organic Strawberries</td>\n",
       "      <td>3.99</td>\n",
       "      <td>148</td>\n",
       "      <td>2023-06-12 18:10:00</td>\n",
       "      <td>2023-06-15</td>\n",
       "    </tr>\n",
       "    <tr>\n",
       "      <th>5</th>\n",
       "      <td>P100015</td>\n",
       "      <td>Produce: Fruit</td>\n",
       "      <td>Watermelon</td>\n",
       "      <td>5.99</td>\n",
       "      <td>99</td>\n",
       "      <td>2023-06-12 19:15:00</td>\n",
       "      <td>2023-06-15</td>\n",
       "    </tr>\n",
       "    <tr>\n",
       "      <th>6</th>\n",
       "      <td>P100016</td>\n",
       "      <td>Produce: Vegetable</td>\n",
       "      <td>Cabbage</td>\n",
       "      <td>1.78</td>\n",
       "      <td>78</td>\n",
       "      <td>2023-06-12 19:25:00</td>\n",
       "      <td>2023-06-15</td>\n",
       "    </tr>\n",
       "    <tr>\n",
       "      <th>7</th>\n",
       "      <td>P100017</td>\n",
       "      <td>Produce: Vegetable</td>\n",
       "      <td>Carrots</td>\n",
       "      <td>2.00</td>\n",
       "      <td>200</td>\n",
       "      <td>2023-06-12 18:05:00</td>\n",
       "      <td>2023-06-15</td>\n",
       "    </tr>\n",
       "    <tr>\n",
       "      <th>8</th>\n",
       "      <td>P100018</td>\n",
       "      <td>Produce: Vegetable</td>\n",
       "      <td>Celery</td>\n",
       "      <td>1.99</td>\n",
       "      <td>50</td>\n",
       "      <td>2023-06-12 16:42:00</td>\n",
       "      <td>2023-06-15</td>\n",
       "    </tr>\n",
       "    <tr>\n",
       "      <th>9</th>\n",
       "      <td>P100019</td>\n",
       "      <td>Produce: Vegetable</td>\n",
       "      <td>Cucumber</td>\n",
       "      <td>0.99</td>\n",
       "      <td>230</td>\n",
       "      <td>2023-06-12 17:47:00</td>\n",
       "      <td>2023-06-15</td>\n",
       "    </tr>\n",
       "    <tr>\n",
       "      <th>10</th>\n",
       "      <td>P100020</td>\n",
       "      <td>Produce: Meat</td>\n",
       "      <td>Beef</td>\n",
       "      <td>8.99</td>\n",
       "      <td>145</td>\n",
       "      <td>2023-06-13 07:00:00</td>\n",
       "      <td>2023-06-17</td>\n",
       "    </tr>\n",
       "    <tr>\n",
       "      <th>11</th>\n",
       "      <td>P100021</td>\n",
       "      <td>Produce: Meat</td>\n",
       "      <td>Chicken (Organic)</td>\n",
       "      <td>10.49</td>\n",
       "      <td>284</td>\n",
       "      <td>2023-06-13 07:20:00</td>\n",
       "      <td>2023-06-17</td>\n",
       "    </tr>\n",
       "    <tr>\n",
       "      <th>12</th>\n",
       "      <td>P100022</td>\n",
       "      <td>Produce: Meat</td>\n",
       "      <td>Turkey</td>\n",
       "      <td>7.99</td>\n",
       "      <td>188</td>\n",
       "      <td>2023-06-13 07:32:00</td>\n",
       "      <td>2023-06-17</td>\n",
       "    </tr>\n",
       "    <tr>\n",
       "      <th>13</th>\n",
       "      <td>P100023</td>\n",
       "      <td>Produce: Dairy</td>\n",
       "      <td>Butter</td>\n",
       "      <td>3.50</td>\n",
       "      <td>400</td>\n",
       "      <td>2023-06-13 08:35:00</td>\n",
       "      <td>2023-06-17</td>\n",
       "    </tr>\n",
       "    <tr>\n",
       "      <th>14</th>\n",
       "      <td>P100024</td>\n",
       "      <td>Produce: Dairy</td>\n",
       "      <td>Eggs</td>\n",
       "      <td>3.29</td>\n",
       "      <td>234</td>\n",
       "      <td>2023-06-13 08:54:00</td>\n",
       "      <td>2023-06-17</td>\n",
       "    </tr>\n",
       "    <tr>\n",
       "      <th>15</th>\n",
       "      <td>P100025</td>\n",
       "      <td>Produce: Dairy</td>\n",
       "      <td>Milk (Soy)</td>\n",
       "      <td>4.49</td>\n",
       "      <td>32</td>\n",
       "      <td>2023-06-13 08:37:00</td>\n",
       "      <td>2023-06-17</td>\n",
       "    </tr>\n",
       "    <tr>\n",
       "      <th>16</th>\n",
       "      <td>P100026</td>\n",
       "      <td>Produce: Dairy</td>\n",
       "      <td>Yogurt</td>\n",
       "      <td>1.00</td>\n",
       "      <td>432</td>\n",
       "      <td>2023-06-13 08:41:00</td>\n",
       "      <td>2023-06-17</td>\n",
       "    </tr>\n",
       "    <tr>\n",
       "      <th>17</th>\n",
       "      <td>P100027</td>\n",
       "      <td>Pantry: Snacks</td>\n",
       "      <td>Apple Sauce - organic</td>\n",
       "      <td>1.50</td>\n",
       "      <td>27</td>\n",
       "      <td>2023-06-10 12:02:00</td>\n",
       "      <td>2023-06-24</td>\n",
       "    </tr>\n",
       "    <tr>\n",
       "      <th>18</th>\n",
       "      <td>P100028</td>\n",
       "      <td>Pantry: Snacks</td>\n",
       "      <td>Chips</td>\n",
       "      <td>2.50</td>\n",
       "      <td>365</td>\n",
       "      <td>2023-06-10 12:12:00</td>\n",
       "      <td>2023-06-24</td>\n",
       "    </tr>\n",
       "    <tr>\n",
       "      <th>19</th>\n",
       "      <td>P100029</td>\n",
       "      <td>Pantry: Snacks</td>\n",
       "      <td>Cookies (Oatmeal)</td>\n",
       "      <td>5.39</td>\n",
       "      <td>340</td>\n",
       "      <td>2023-06-10 12:24:00</td>\n",
       "      <td>2023-06-24</td>\n",
       "    </tr>\n",
       "  </tbody>\n",
       "</table>\n",
       "</div>"
      ],
      "text/plain": [
       "   Product_ID            Category                   Item  Price_Dollars  \\\n",
       "0     P100010      Produce: Fruit                  Apple           1.50   \n",
       "1     P100011      Produce: Fruit                 Banana           0.40   \n",
       "2     P100012      Produce: Fruit                 Grapes           4.00   \n",
       "3     P100013      Produce: Fruit             Grapefruit           0.99   \n",
       "4     P100014      Produce: Fruit   Organic Strawberries           3.99   \n",
       "5     P100015      Produce: Fruit             Watermelon           5.99   \n",
       "6     P100016  Produce: Vegetable                Cabbage           1.78   \n",
       "7     P100017  Produce: Vegetable                Carrots           2.00   \n",
       "8     P100018  Produce: Vegetable                 Celery           1.99   \n",
       "9     P100019  Produce: Vegetable               Cucumber           0.99   \n",
       "10    P100020       Produce: Meat                   Beef           8.99   \n",
       "11    P100021       Produce: Meat      Chicken (Organic)          10.49   \n",
       "12    P100022       Produce: Meat                 Turkey           7.99   \n",
       "13    P100023      Produce: Dairy                 Butter           3.50   \n",
       "14    P100024      Produce: Dairy                   Eggs           3.29   \n",
       "15    P100025      Produce: Dairy             Milk (Soy)           4.49   \n",
       "16    P100026      Produce: Dairy                 Yogurt           1.00   \n",
       "17    P100027      Pantry: Snacks  Apple Sauce - organic           1.50   \n",
       "18    P100028      Pantry: Snacks                  Chips           2.50   \n",
       "19    P100029      Pantry: Snacks      Cookies (Oatmeal)           5.39   \n",
       "\n",
       "    Inventory        Last_Updated Next_Scheduled_Shipment  \n",
       "0         349 2023-06-12 15:35:00              2023-06-15  \n",
       "1         500 2023-06-12 18:30:00              2023-06-15  \n",
       "2         200 2023-06-12 17:22:00              2023-06-15  \n",
       "3          50 2023-06-12 16:29:00              2023-06-15  \n",
       "4         148 2023-06-12 18:10:00              2023-06-15  \n",
       "5          99 2023-06-12 19:15:00              2023-06-15  \n",
       "6          78 2023-06-12 19:25:00              2023-06-15  \n",
       "7         200 2023-06-12 18:05:00              2023-06-15  \n",
       "8          50 2023-06-12 16:42:00              2023-06-15  \n",
       "9         230 2023-06-12 17:47:00              2023-06-15  \n",
       "10        145 2023-06-13 07:00:00              2023-06-17  \n",
       "11        284 2023-06-13 07:20:00              2023-06-17  \n",
       "12        188 2023-06-13 07:32:00              2023-06-17  \n",
       "13        400 2023-06-13 08:35:00              2023-06-17  \n",
       "14        234 2023-06-13 08:54:00              2023-06-17  \n",
       "15         32 2023-06-13 08:37:00              2023-06-17  \n",
       "16        432 2023-06-13 08:41:00              2023-06-17  \n",
       "17         27 2023-06-10 12:02:00              2023-06-24  \n",
       "18        365 2023-06-10 12:12:00              2023-06-24  \n",
       "19        340 2023-06-10 12:24:00              2023-06-24  "
      ]
     },
     "execution_count": 5,
     "metadata": {},
     "output_type": "execute_result"
    }
   ],
   "source": [
    "groceries.head(20)\n"
   ]
  },
  {
   "cell_type": "code",
   "execution_count": 6,
   "id": "4d32c584-ffc7-4b51-a543-a810080f1bcc",
   "metadata": {
    "hidden": true
   },
   "outputs": [],
   "source": [
    "groceries['New Column'] = round(groceries.Price_Dollars * 1.05, 2)"
   ]
  },
  {
   "cell_type": "code",
   "execution_count": 7,
   "id": "a3f121a5-4cca-4067-bb08-22c366a7e9b2",
   "metadata": {
    "hidden": true
   },
   "outputs": [],
   "source": [
    "groceries[\"Total Inventory\"] = groceries.Inventory.sum()"
   ]
  },
  {
   "cell_type": "code",
   "execution_count": 8,
   "id": "0b613687-34a2-433d-a1e4-1e310423931f",
   "metadata": {
    "hidden": true
   },
   "outputs": [],
   "source": [
    "groceries[\"Percent Inventory Column\"] = round(groceries[\"Inventory\"] / groceries[\"Total Inventory\"] * 100, 2)"
   ]
  },
  {
   "cell_type": "code",
   "execution_count": 9,
   "id": "24b3589b-696f-43b6-b7f0-96098aac194d",
   "metadata": {
    "hidden": true
   },
   "outputs": [],
   "source": [
    "groceries[\"Low Inventory\"] = np.where(groceries.Inventory < 50, 'Low inventory', '')"
   ]
  },
  {
   "cell_type": "code",
   "execution_count": 11,
   "id": "122089c1-fdfe-428a-8ca2-3d035dd9101c",
   "metadata": {
    "hidden": true
   },
   "outputs": [
    {
     "data": {
      "text/html": [
       "<div>\n",
       "<style scoped>\n",
       "    .dataframe tbody tr th:only-of-type {\n",
       "        vertical-align: middle;\n",
       "    }\n",
       "\n",
       "    .dataframe tbody tr th {\n",
       "        vertical-align: top;\n",
       "    }\n",
       "\n",
       "    .dataframe thead th {\n",
       "        text-align: right;\n",
       "    }\n",
       "</style>\n",
       "<table border=\"1\" class=\"dataframe\">\n",
       "  <thead>\n",
       "    <tr style=\"text-align: right;\">\n",
       "      <th></th>\n",
       "      <th>Product_ID</th>\n",
       "      <th>Category</th>\n",
       "      <th>Item</th>\n",
       "      <th>Price_Dollars</th>\n",
       "      <th>Inventory</th>\n",
       "      <th>Last_Updated</th>\n",
       "      <th>Next_Scheduled_Shipment</th>\n",
       "      <th>New Column</th>\n",
       "      <th>Total Inventory</th>\n",
       "      <th>Percent Inventory Column</th>\n",
       "      <th>Low Inventory</th>\n",
       "    </tr>\n",
       "  </thead>\n",
       "  <tbody>\n",
       "    <tr>\n",
       "      <th>0</th>\n",
       "      <td>P100010</td>\n",
       "      <td>Produce: Fruit</td>\n",
       "      <td>Apple</td>\n",
       "      <td>1.50</td>\n",
       "      <td>349</td>\n",
       "      <td>2023-06-12 15:35:00</td>\n",
       "      <td>2023-06-15</td>\n",
       "      <td>1.58</td>\n",
       "      <td>4857</td>\n",
       "      <td>7.19</td>\n",
       "      <td></td>\n",
       "    </tr>\n",
       "    <tr>\n",
       "      <th>1</th>\n",
       "      <td>P100011</td>\n",
       "      <td>Produce: Fruit</td>\n",
       "      <td>Banana</td>\n",
       "      <td>0.40</td>\n",
       "      <td>500</td>\n",
       "      <td>2023-06-12 18:30:00</td>\n",
       "      <td>2023-06-15</td>\n",
       "      <td>0.42</td>\n",
       "      <td>4857</td>\n",
       "      <td>10.29</td>\n",
       "      <td></td>\n",
       "    </tr>\n",
       "    <tr>\n",
       "      <th>2</th>\n",
       "      <td>P100012</td>\n",
       "      <td>Produce: Fruit</td>\n",
       "      <td>Grapes</td>\n",
       "      <td>4.00</td>\n",
       "      <td>200</td>\n",
       "      <td>2023-06-12 17:22:00</td>\n",
       "      <td>2023-06-15</td>\n",
       "      <td>4.20</td>\n",
       "      <td>4857</td>\n",
       "      <td>4.12</td>\n",
       "      <td></td>\n",
       "    </tr>\n",
       "    <tr>\n",
       "      <th>3</th>\n",
       "      <td>P100013</td>\n",
       "      <td>Produce: Fruit</td>\n",
       "      <td>Grapefruit</td>\n",
       "      <td>0.99</td>\n",
       "      <td>50</td>\n",
       "      <td>2023-06-12 16:29:00</td>\n",
       "      <td>2023-06-15</td>\n",
       "      <td>1.04</td>\n",
       "      <td>4857</td>\n",
       "      <td>1.03</td>\n",
       "      <td></td>\n",
       "    </tr>\n",
       "    <tr>\n",
       "      <th>4</th>\n",
       "      <td>P100014</td>\n",
       "      <td>Produce: Fruit</td>\n",
       "      <td>Organic Strawberries</td>\n",
       "      <td>3.99</td>\n",
       "      <td>148</td>\n",
       "      <td>2023-06-12 18:10:00</td>\n",
       "      <td>2023-06-15</td>\n",
       "      <td>4.19</td>\n",
       "      <td>4857</td>\n",
       "      <td>3.05</td>\n",
       "      <td></td>\n",
       "    </tr>\n",
       "  </tbody>\n",
       "</table>\n",
       "</div>"
      ],
      "text/plain": [
       "  Product_ID        Category                  Item  Price_Dollars  Inventory  \\\n",
       "0    P100010  Produce: Fruit                 Apple           1.50        349   \n",
       "1    P100011  Produce: Fruit                Banana           0.40        500   \n",
       "2    P100012  Produce: Fruit                Grapes           4.00        200   \n",
       "3    P100013  Produce: Fruit            Grapefruit           0.99         50   \n",
       "4    P100014  Produce: Fruit  Organic Strawberries           3.99        148   \n",
       "\n",
       "         Last_Updated Next_Scheduled_Shipment  New Column  Total Inventory  \\\n",
       "0 2023-06-12 15:35:00              2023-06-15        1.58             4857   \n",
       "1 2023-06-12 18:30:00              2023-06-15        0.42             4857   \n",
       "2 2023-06-12 17:22:00              2023-06-15        4.20             4857   \n",
       "3 2023-06-12 16:29:00              2023-06-15        1.04             4857   \n",
       "4 2023-06-12 18:10:00              2023-06-15        4.19             4857   \n",
       "\n",
       "   Percent Inventory Column Low Inventory  \n",
       "0                      7.19                \n",
       "1                     10.29                \n",
       "2                      4.12                \n",
       "3                      1.03                \n",
       "4                      3.05                "
      ]
     },
     "execution_count": 11,
     "metadata": {},
     "output_type": "execute_result"
    }
   ],
   "source": [
    "groceries.head()"
   ]
  },
  {
   "cell_type": "code",
   "execution_count": 44,
   "id": "6d5564ff-dc36-4445-8724-d3d28525e81b",
   "metadata": {
    "hidden": true
   },
   "outputs": [
    {
     "data": {
      "text/html": [
       "<div>\n",
       "<style scoped>\n",
       "    .dataframe tbody tr th:only-of-type {\n",
       "        vertical-align: middle;\n",
       "    }\n",
       "\n",
       "    .dataframe tbody tr th {\n",
       "        vertical-align: top;\n",
       "    }\n",
       "\n",
       "    .dataframe thead th {\n",
       "        text-align: right;\n",
       "    }\n",
       "</style>\n",
       "<table border=\"1\" class=\"dataframe\">\n",
       "  <thead>\n",
       "    <tr style=\"text-align: right;\">\n",
       "      <th></th>\n",
       "      <th>Product_ID</th>\n",
       "      <th>Category</th>\n",
       "      <th>Item</th>\n",
       "      <th>Price_Dollars</th>\n",
       "      <th>Inventory</th>\n",
       "      <th>Last_Updated</th>\n",
       "      <th>Next_Scheduled_Shipment</th>\n",
       "      <th>New Column</th>\n",
       "      <th>Total Inventory</th>\n",
       "      <th>Percent Inventory Column</th>\n",
       "      <th>Low Inventory</th>\n",
       "      <th>Last_Update_Time</th>\n",
       "      <th>Shipment_Date_NOW</th>\n",
       "      <th>New_Shipement_Date</th>\n",
       "    </tr>\n",
       "  </thead>\n",
       "  <tbody>\n",
       "    <tr>\n",
       "      <th>0</th>\n",
       "      <td>P100010</td>\n",
       "      <td>Produce: Fruit</td>\n",
       "      <td>Apple</td>\n",
       "      <td>1.50</td>\n",
       "      <td>349</td>\n",
       "      <td>2023-06-12 15:35:00</td>\n",
       "      <td>1970-01-01 00:00:00.000000003</td>\n",
       "      <td>1.58</td>\n",
       "      <td>4857</td>\n",
       "      <td>7.19</td>\n",
       "      <td></td>\n",
       "      <td>15:35:00</td>\n",
       "      <td>Thursday</td>\n",
       "      <td>1970-01-02 00:00:00.000000003</td>\n",
       "    </tr>\n",
       "    <tr>\n",
       "      <th>1</th>\n",
       "      <td>P100011</td>\n",
       "      <td>Produce: Fruit</td>\n",
       "      <td>Banana</td>\n",
       "      <td>0.40</td>\n",
       "      <td>500</td>\n",
       "      <td>2023-06-12 18:30:00</td>\n",
       "      <td>1970-01-01 00:00:00.000000003</td>\n",
       "      <td>0.42</td>\n",
       "      <td>4857</td>\n",
       "      <td>10.29</td>\n",
       "      <td></td>\n",
       "      <td>18:30:00</td>\n",
       "      <td>Thursday</td>\n",
       "      <td>1970-01-02 00:00:00.000000003</td>\n",
       "    </tr>\n",
       "    <tr>\n",
       "      <th>2</th>\n",
       "      <td>P100012</td>\n",
       "      <td>Produce: Fruit</td>\n",
       "      <td>Grapes</td>\n",
       "      <td>4.00</td>\n",
       "      <td>200</td>\n",
       "      <td>2023-06-12 17:22:00</td>\n",
       "      <td>1970-01-01 00:00:00.000000003</td>\n",
       "      <td>4.20</td>\n",
       "      <td>4857</td>\n",
       "      <td>4.12</td>\n",
       "      <td></td>\n",
       "      <td>17:22:00</td>\n",
       "      <td>Thursday</td>\n",
       "      <td>1970-01-02 00:00:00.000000003</td>\n",
       "    </tr>\n",
       "    <tr>\n",
       "      <th>3</th>\n",
       "      <td>P100013</td>\n",
       "      <td>Produce: Fruit</td>\n",
       "      <td>Grapefruit</td>\n",
       "      <td>0.99</td>\n",
       "      <td>50</td>\n",
       "      <td>2023-06-12 16:29:00</td>\n",
       "      <td>1970-01-01 00:00:00.000000003</td>\n",
       "      <td>1.04</td>\n",
       "      <td>4857</td>\n",
       "      <td>1.03</td>\n",
       "      <td></td>\n",
       "      <td>16:29:00</td>\n",
       "      <td>Thursday</td>\n",
       "      <td>1970-01-02 00:00:00.000000003</td>\n",
       "    </tr>\n",
       "    <tr>\n",
       "      <th>4</th>\n",
       "      <td>P100014</td>\n",
       "      <td>Produce: Fruit</td>\n",
       "      <td>Organic Strawberries</td>\n",
       "      <td>3.99</td>\n",
       "      <td>148</td>\n",
       "      <td>2023-06-12 18:10:00</td>\n",
       "      <td>1970-01-01 00:00:00.000000003</td>\n",
       "      <td>4.19</td>\n",
       "      <td>4857</td>\n",
       "      <td>3.05</td>\n",
       "      <td></td>\n",
       "      <td>18:10:00</td>\n",
       "      <td>Thursday</td>\n",
       "      <td>1970-01-02 00:00:00.000000003</td>\n",
       "    </tr>\n",
       "  </tbody>\n",
       "</table>\n",
       "</div>"
      ],
      "text/plain": [
       "  Product_ID        Category                  Item  Price_Dollars  Inventory  \\\n",
       "0    P100010  Produce: Fruit                 Apple           1.50        349   \n",
       "1    P100011  Produce: Fruit                Banana           0.40        500   \n",
       "2    P100012  Produce: Fruit                Grapes           4.00        200   \n",
       "3    P100013  Produce: Fruit            Grapefruit           0.99         50   \n",
       "4    P100014  Produce: Fruit  Organic Strawberries           3.99        148   \n",
       "\n",
       "         Last_Updated       Next_Scheduled_Shipment  New Column  \\\n",
       "0 2023-06-12 15:35:00 1970-01-01 00:00:00.000000003        1.58   \n",
       "1 2023-06-12 18:30:00 1970-01-01 00:00:00.000000003        0.42   \n",
       "2 2023-06-12 17:22:00 1970-01-01 00:00:00.000000003        4.20   \n",
       "3 2023-06-12 16:29:00 1970-01-01 00:00:00.000000003        1.04   \n",
       "4 2023-06-12 18:10:00 1970-01-01 00:00:00.000000003        4.19   \n",
       "\n",
       "   Total Inventory  Percent Inventory Column Low Inventory Last_Update_Time  \\\n",
       "0             4857                      7.19                       15:35:00   \n",
       "1             4857                     10.29                       18:30:00   \n",
       "2             4857                      4.12                       17:22:00   \n",
       "3             4857                      1.03                       16:29:00   \n",
       "4             4857                      3.05                       18:10:00   \n",
       "\n",
       "  Shipment_Date_NOW            New_Shipement_Date  \n",
       "0          Thursday 1970-01-02 00:00:00.000000003  \n",
       "1          Thursday 1970-01-02 00:00:00.000000003  \n",
       "2          Thursday 1970-01-02 00:00:00.000000003  \n",
       "3          Thursday 1970-01-02 00:00:00.000000003  \n",
       "4          Thursday 1970-01-02 00:00:00.000000003  "
      ]
     },
     "execution_count": 44,
     "metadata": {},
     "output_type": "execute_result"
    }
   ],
   "source": [
    "groceries.head()"
   ]
  },
  {
   "cell_type": "code",
   "execution_count": 27,
   "id": "1b96950f-f5c0-4a34-bd24-95e281ed7f30",
   "metadata": {
    "hidden": true
   },
   "outputs": [],
   "source": [
    "groceries['Last_Update_Time'] = groceries.Last_Updated.dt.time"
   ]
  },
  {
   "cell_type": "code",
   "execution_count": 36,
   "id": "3c368dc9-908f-4b5f-acd1-b4bae8c5ac45",
   "metadata": {
    "hidden": true
   },
   "outputs": [],
   "source": [
    "groceries['Next_Scheduled_Shipment'] = pd.to_datetime(groceries['Next_Scheduled_Shipment'])"
   ]
  },
  {
   "cell_type": "code",
   "execution_count": 37,
   "id": "59456ea0-1fac-47cd-9c3e-e57a94004f5f",
   "metadata": {
    "hidden": true
   },
   "outputs": [],
   "source": [
    "groceries['Shipment_Date_NOW'] = groceries.Next_Scheduled_Shipment.dt.dayofweek"
   ]
  },
  {
   "cell_type": "code",
   "execution_count": 38,
   "id": "936ee47d-8763-4286-b153-f163376c8688",
   "metadata": {
    "hidden": true
   },
   "outputs": [],
   "source": [
    "dow_mapping = {\n",
    "    0: 'Monday',\n",
    "    1: 'Tuesday',\n",
    "    2: 'Wednesday',\n",
    "    3: 'Thursday',\n",
    "    4: 'Friday',\n",
    "    5: 'Saturday',\n",
    "    6: 'Sunday'\n",
    "}\n",
    "              "
   ]
  },
  {
   "cell_type": "code",
   "execution_count": 40,
   "id": "936c2892-f89f-4e98-8479-39bf820e4fd8",
   "metadata": {
    "hidden": true
   },
   "outputs": [],
   "source": [
    "groceries['Shipment_Date_NOW'] = groceries['Shipment_Date_NOW'].map(dow_mapping)"
   ]
  },
  {
   "cell_type": "code",
   "execution_count": 43,
   "id": "c7bcf1f0-2fd7-4c02-994a-90a970742753",
   "metadata": {
    "hidden": true
   },
   "outputs": [],
   "source": [
    "groceries['New_Shipement_Date'] = groceries.Next_Scheduled_Shipment + pd.to_timedelta(1, 'D')"
   ]
  },
  {
   "cell_type": "markdown",
   "id": "b4d565f0",
   "metadata": {},
   "source": [
    "## Extracting text\n"
   ]
  },
  {
   "cell_type": "code",
   "execution_count": 4,
   "id": "9b9225a3-0f18-455a-a8c5-c3de49b85325",
   "metadata": {},
   "outputs": [],
   "source": [
    "df = pd.read_excel('../My_Datas/Data/Groceries.xlsx')"
   ]
  },
  {
   "cell_type": "code",
   "execution_count": 34,
   "id": "ffbf32ff",
   "metadata": {},
   "outputs": [
    {
     "data": {
      "text/html": [
       "<div>\n",
       "<style scoped>\n",
       "    .dataframe tbody tr th:only-of-type {\n",
       "        vertical-align: middle;\n",
       "    }\n",
       "\n",
       "    .dataframe tbody tr th {\n",
       "        vertical-align: top;\n",
       "    }\n",
       "\n",
       "    .dataframe thead th {\n",
       "        text-align: right;\n",
       "    }\n",
       "</style>\n",
       "<table border=\"1\" class=\"dataframe\">\n",
       "  <thead>\n",
       "    <tr style=\"text-align: right;\">\n",
       "      <th></th>\n",
       "      <th>Product_ID</th>\n",
       "      <th>Category</th>\n",
       "      <th>Item</th>\n",
       "      <th>Price_Dollars</th>\n",
       "      <th>Inventory</th>\n",
       "      <th>Last_Updated</th>\n",
       "      <th>Next_Scheduled_Shipment</th>\n",
       "      <th>Product_Number</th>\n",
       "      <th>Subcategory</th>\n",
       "    </tr>\n",
       "  </thead>\n",
       "  <tbody>\n",
       "    <tr>\n",
       "      <th>0</th>\n",
       "      <td>P100010</td>\n",
       "      <td>Produce</td>\n",
       "      <td>Apple</td>\n",
       "      <td>1.50</td>\n",
       "      <td>349</td>\n",
       "      <td>2023-06-12 15:35:00</td>\n",
       "      <td>2023-06-15</td>\n",
       "      <td>100010</td>\n",
       "      <td>Fruit</td>\n",
       "    </tr>\n",
       "    <tr>\n",
       "      <th>1</th>\n",
       "      <td>P100011</td>\n",
       "      <td>Produce</td>\n",
       "      <td>Banana</td>\n",
       "      <td>0.40</td>\n",
       "      <td>500</td>\n",
       "      <td>2023-06-12 18:30:00</td>\n",
       "      <td>2023-06-15</td>\n",
       "      <td>100011</td>\n",
       "      <td>Fruit</td>\n",
       "    </tr>\n",
       "    <tr>\n",
       "      <th>2</th>\n",
       "      <td>P100012</td>\n",
       "      <td>Produce</td>\n",
       "      <td>Grapes</td>\n",
       "      <td>4.00</td>\n",
       "      <td>200</td>\n",
       "      <td>2023-06-12 17:22:00</td>\n",
       "      <td>2023-06-15</td>\n",
       "      <td>100012</td>\n",
       "      <td>Fruit</td>\n",
       "    </tr>\n",
       "    <tr>\n",
       "      <th>3</th>\n",
       "      <td>P100013</td>\n",
       "      <td>Produce</td>\n",
       "      <td>Grapefruit</td>\n",
       "      <td>0.99</td>\n",
       "      <td>50</td>\n",
       "      <td>2023-06-12 16:29:00</td>\n",
       "      <td>2023-06-15</td>\n",
       "      <td>100013</td>\n",
       "      <td>Fruit</td>\n",
       "    </tr>\n",
       "    <tr>\n",
       "      <th>4</th>\n",
       "      <td>P100014</td>\n",
       "      <td>Produce</td>\n",
       "      <td>Organic Strawberries</td>\n",
       "      <td>3.99</td>\n",
       "      <td>148</td>\n",
       "      <td>2023-06-12 18:10:00</td>\n",
       "      <td>2023-06-15</td>\n",
       "      <td>100014</td>\n",
       "      <td>Fruit</td>\n",
       "    </tr>\n",
       "  </tbody>\n",
       "</table>\n",
       "</div>"
      ],
      "text/plain": [
       "  Product_ID Category                  Item  Price_Dollars  Inventory  \\\n",
       "0    P100010  Produce                 Apple           1.50        349   \n",
       "1    P100011  Produce                Banana           0.40        500   \n",
       "2    P100012  Produce                Grapes           4.00        200   \n",
       "3    P100013  Produce            Grapefruit           0.99         50   \n",
       "4    P100014  Produce  Organic Strawberries           3.99        148   \n",
       "\n",
       "         Last_Updated Next_Scheduled_Shipment  Product_Number Subcategory  \n",
       "0 2023-06-12 15:35:00              2023-06-15          100010       Fruit  \n",
       "1 2023-06-12 18:30:00              2023-06-15          100011       Fruit  \n",
       "2 2023-06-12 17:22:00              2023-06-15          100012       Fruit  \n",
       "3 2023-06-12 16:29:00              2023-06-15          100013       Fruit  \n",
       "4 2023-06-12 18:10:00              2023-06-15          100014       Fruit  "
      ]
     },
     "execution_count": 34,
     "metadata": {},
     "output_type": "execute_result"
    }
   ],
   "source": [
    "df.head()"
   ]
  },
  {
   "cell_type": "code",
   "execution_count": 16,
   "id": "9d80e893",
   "metadata": {},
   "outputs": [],
   "source": [
    "df['Product_Number'] = df.Product_ID.str[1:]"
   ]
  },
  {
   "cell_type": "code",
   "execution_count": 35,
   "id": "41281417",
   "metadata": {},
   "outputs": [],
   "source": [
    "df['Product_Number'] = df['Product_Number'].astype('int')"
   ]
  },
  {
   "cell_type": "code",
   "execution_count": null,
   "id": "6ff22db6",
   "metadata": {},
   "outputs": [],
   "source": [
    "df[['Category', 'Subcategory']] = pd.DataFrame(df.Category.str.split(':').to_list())"
   ]
  },
  {
   "cell_type": "code",
   "execution_count": 43,
   "id": "3edf4ad0",
   "metadata": {},
   "outputs": [
    {
     "data": {
      "text/html": [
       "<div>\n",
       "<style scoped>\n",
       "    .dataframe tbody tr th:only-of-type {\n",
       "        vertical-align: middle;\n",
       "    }\n",
       "\n",
       "    .dataframe tbody tr th {\n",
       "        vertical-align: top;\n",
       "    }\n",
       "\n",
       "    .dataframe thead th {\n",
       "        text-align: right;\n",
       "    }\n",
       "</style>\n",
       "<table border=\"1\" class=\"dataframe\">\n",
       "  <thead>\n",
       "    <tr style=\"text-align: right;\">\n",
       "      <th></th>\n",
       "      <th>Product_ID</th>\n",
       "      <th>Category</th>\n",
       "      <th>Item</th>\n",
       "      <th>Price_Dollars</th>\n",
       "      <th>Inventory</th>\n",
       "      <th>Last_Updated</th>\n",
       "      <th>Next_Scheduled_Shipment</th>\n",
       "      <th>Product_Number</th>\n",
       "      <th>Subcategory</th>\n",
       "      <th>Organic</th>\n",
       "    </tr>\n",
       "  </thead>\n",
       "  <tbody>\n",
       "    <tr>\n",
       "      <th>0</th>\n",
       "      <td>P100010</td>\n",
       "      <td>Produce</td>\n",
       "      <td>Apple</td>\n",
       "      <td>1.50</td>\n",
       "      <td>349</td>\n",
       "      <td>2023-06-12 15:35:00</td>\n",
       "      <td>2023-06-15</td>\n",
       "      <td>100010</td>\n",
       "      <td>Fruit</td>\n",
       "      <td>False</td>\n",
       "    </tr>\n",
       "    <tr>\n",
       "      <th>1</th>\n",
       "      <td>P100011</td>\n",
       "      <td>Produce</td>\n",
       "      <td>Banana</td>\n",
       "      <td>0.40</td>\n",
       "      <td>500</td>\n",
       "      <td>2023-06-12 18:30:00</td>\n",
       "      <td>2023-06-15</td>\n",
       "      <td>100011</td>\n",
       "      <td>Fruit</td>\n",
       "      <td>False</td>\n",
       "    </tr>\n",
       "    <tr>\n",
       "      <th>2</th>\n",
       "      <td>P100012</td>\n",
       "      <td>Produce</td>\n",
       "      <td>Grapes</td>\n",
       "      <td>4.00</td>\n",
       "      <td>200</td>\n",
       "      <td>2023-06-12 17:22:00</td>\n",
       "      <td>2023-06-15</td>\n",
       "      <td>100012</td>\n",
       "      <td>Fruit</td>\n",
       "      <td>False</td>\n",
       "    </tr>\n",
       "    <tr>\n",
       "      <th>3</th>\n",
       "      <td>P100013</td>\n",
       "      <td>Produce</td>\n",
       "      <td>Grapefruit</td>\n",
       "      <td>0.99</td>\n",
       "      <td>50</td>\n",
       "      <td>2023-06-12 16:29:00</td>\n",
       "      <td>2023-06-15</td>\n",
       "      <td>100013</td>\n",
       "      <td>Fruit</td>\n",
       "      <td>False</td>\n",
       "    </tr>\n",
       "    <tr>\n",
       "      <th>4</th>\n",
       "      <td>P100014</td>\n",
       "      <td>Produce</td>\n",
       "      <td>Organic Strawberries</td>\n",
       "      <td>3.99</td>\n",
       "      <td>148</td>\n",
       "      <td>2023-06-12 18:10:00</td>\n",
       "      <td>2023-06-15</td>\n",
       "      <td>100014</td>\n",
       "      <td>Fruit</td>\n",
       "      <td>True</td>\n",
       "    </tr>\n",
       "  </tbody>\n",
       "</table>\n",
       "</div>"
      ],
      "text/plain": [
       "  Product_ID Category                  Item  Price_Dollars  Inventory  \\\n",
       "0    P100010  Produce                 Apple           1.50        349   \n",
       "1    P100011  Produce                Banana           0.40        500   \n",
       "2    P100012  Produce                Grapes           4.00        200   \n",
       "3    P100013  Produce            Grapefruit           0.99         50   \n",
       "4    P100014  Produce  Organic Strawberries           3.99        148   \n",
       "\n",
       "         Last_Updated Next_Scheduled_Shipment  Product_Number Subcategory  \\\n",
       "0 2023-06-12 15:35:00              2023-06-15          100010       Fruit   \n",
       "1 2023-06-12 18:30:00              2023-06-15          100011       Fruit   \n",
       "2 2023-06-12 17:22:00              2023-06-15          100012       Fruit   \n",
       "3 2023-06-12 16:29:00              2023-06-15          100013       Fruit   \n",
       "4 2023-06-12 18:10:00              2023-06-15          100014       Fruit   \n",
       "\n",
       "   Organic  \n",
       "0    False  \n",
       "1    False  \n",
       "2    False  \n",
       "3    False  \n",
       "4     True  "
      ]
     },
     "execution_count": 43,
     "metadata": {},
     "output_type": "execute_result"
    }
   ],
   "source": [
    "df.head()"
   ]
  },
  {
   "cell_type": "code",
   "execution_count": 42,
   "id": "b246bec8",
   "metadata": {},
   "outputs": [],
   "source": [
    "df['Organic'] = df.Item.str.lower().str.contains('organic|organic', regex=True)"
   ]
  },
  {
   "cell_type": "code",
   "execution_count": null,
   "id": "521f9697",
   "metadata": {},
   "outputs": [],
   "source": []
  },
  {
   "cell_type": "code",
   "execution_count": null,
   "id": "99af2a45",
   "metadata": {},
   "outputs": [],
   "source": []
  }
 ],
 "metadata": {
  "kernelspec": {
   "display_name": "Python 3 (ipykernel)",
   "language": "python",
   "name": "python3"
  },
  "language_info": {
   "codemirror_mode": {
    "name": "ipython",
    "version": 3
   },
   "file_extension": ".py",
   "mimetype": "text/x-python",
   "name": "python",
   "nbconvert_exporter": "python",
   "pygments_lexer": "ipython3",
   "version": "3.11.1"
  }
 },
 "nbformat": 4,
 "nbformat_minor": 5
}
